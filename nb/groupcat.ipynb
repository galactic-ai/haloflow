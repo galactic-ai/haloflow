{
 "cells": [
  {
   "cell_type": "code",
   "execution_count": 1,
   "id": "bcd5b117",
   "metadata": {},
   "outputs": [],
   "source": [
    "import os, h5py, glob\n",
    "import numpy as np \n",
    "from astropy.table import Table, vstack"
   ]
  },
  {
   "cell_type": "code",
   "execution_count": 2,
   "id": "7b3afe1a",
   "metadata": {},
   "outputs": [],
   "source": [
    "snapshot = 90\n",
    "dat_dir = '/scratch/gpfs/chhahn/haloflow/groupcat/idark.ipmu.jp/hsc405/GroupCats/groups_0%i/' % snapshot"
   ]
  },
  {
   "cell_type": "code",
   "execution_count": 5,
   "id": "d08b1bc9",
   "metadata": {},
   "outputs": [],
   "source": [
    "# compile subhalos and groups\n",
    "tab_sub, tab_grp = [], []\n",
    "for i in range(np.max([int(fsub.split('.')[-2]) for fsub in glob.glob(os.path.join(dat_dir, '*.hdf5'))])+1): \n",
    "    with h5py.File(os.path.join(dat_dir, 'fof_subhalo_tab_0%i.%i.hdf5' % (snapshot, i)), 'r') as fsub: \n",
    "        _tab = Table()\n",
    "        for k in fsub['Subhalo'].keys():\n",
    "            _tab[k] = fsub['Subhalo'][k][...]\n",
    "        tab_sub.append(_tab)\n",
    "    \n",
    "    with h5py.File(os.path.join(dat_dir, 'fof_subhalo_tab_0%i.%i.hdf5' % (snapshot, i)), 'r') as fsub: \n",
    "        _tab = Table()\n",
    "        for k in fsub['Group'].keys():\n",
    "            _tab[k] = fsub['Group'][k][...]\n",
    "        tab_grp.append(_tab)\n",
    "        \n",
    "tab_sub = vstack(tab_sub)        \n",
    "tab_grp = vstack(tab_grp)   "
   ]
  },
  {
   "cell_type": "code",
   "execution_count": 6,
   "id": "64699394",
   "metadata": {},
   "outputs": [
    {
     "data": {
      "text/html": [
       "<div><i>Table length=5</i>\n",
       "<table id=\"table22774256205328\" class=\"table-striped table-bordered table-condensed\">\n",
       "<thead><tr><th>SubhaloBHMass</th><th>SubhaloBHMdot</th><th>SubhaloCM [3]</th><th>SubhaloFlag</th><th>SubhaloGasMetalFractions [10]</th><th>SubhaloGasMetalFractionsHalfRad [10]</th><th>SubhaloGasMetalFractionsMaxRad [10]</th><th>SubhaloGasMetalFractionsSfr [10]</th><th>SubhaloGasMetalFractionsSfrWeighted [10]</th><th>SubhaloGasMetallicity</th><th>SubhaloGasMetallicityHalfRad</th><th>SubhaloGasMetallicityMaxRad</th><th>SubhaloGasMetallicitySfr</th><th>SubhaloGasMetallicitySfrWeighted</th><th>SubhaloGrNr</th><th>SubhaloHalfmassRad</th><th>SubhaloHalfmassRadType [6]</th><th>SubhaloIDMostbound</th><th>SubhaloLen</th><th>SubhaloLenType [6]</th><th>SubhaloMass</th><th>SubhaloMassInHalfRad</th><th>SubhaloMassInHalfRadType [6]</th><th>SubhaloMassInMaxRad</th><th>SubhaloMassInMaxRadType [6]</th><th>SubhaloMassInRad</th><th>SubhaloMassInRadType [6]</th><th>SubhaloMassType [6]</th><th>SubhaloParent</th><th>SubhaloPos [3]</th><th>SubhaloSFR</th><th>SubhaloSFRinHalfRad</th><th>SubhaloSFRinMaxRad</th><th>SubhaloSFRinRad</th><th>SubhaloSpin [3]</th><th>SubhaloStarMetalFractions [10]</th><th>SubhaloStarMetalFractionsHalfRad [10]</th><th>SubhaloStarMetalFractionsMaxRad [10]</th><th>SubhaloStarMetallicity</th><th>SubhaloStarMetallicityHalfRad</th><th>SubhaloStarMetallicityMaxRad</th><th>SubhaloStellarPhotometrics [8]</th><th>SubhaloStellarPhotometricsMassInRad</th><th>SubhaloStellarPhotometricsRad</th><th>SubhaloVel [3]</th><th>SubhaloVelDisp</th><th>SubhaloVmax</th><th>SubhaloVmaxRad</th><th>SubhaloWindMass</th></tr></thead>\n",
       "<thead><tr><th>float32</th><th>float32</th><th>float32</th><th>bool</th><th>float32</th><th>float32</th><th>float32</th><th>float32</th><th>float32</th><th>float32</th><th>float32</th><th>float32</th><th>float32</th><th>float32</th><th>int32</th><th>float32</th><th>float32</th><th>uint64</th><th>int32</th><th>int32</th><th>float32</th><th>float32</th><th>float32</th><th>float32</th><th>float32</th><th>float32</th><th>float32</th><th>float32</th><th>int32</th><th>float32</th><th>float32</th><th>float32</th><th>float32</th><th>float32</th><th>float32</th><th>float32</th><th>float32</th><th>float32</th><th>float32</th><th>float32</th><th>float32</th><th>float32</th><th>float32</th><th>float32</th><th>float32</th><th>float32</th><th>float32</th><th>float32</th><th>float32</th></tr></thead>\n",
       "<tr><td>0.57347244</td><td>0.000547174</td><td>7276.822 .. 21350.732</td><td>True</td><td>0.73887515 .. 0.00038007202</td><td>0.7370904 .. 0.000428968</td><td>0.0 .. 0.0</td><td>0.73597354 .. 0.000366553</td><td>0.7358538 .. 0.0003727517</td><td>0.010115719</td><td>0.01101489</td><td>0.0</td><td>0.012181218</td><td>0.012319585</td><td>0</td><td>444.93533</td><td>454.0696 .. 0.0</td><td>146832535091</td><td>735543840</td><td>256170441 .. 1</td><td>13804.458</td><td>403.28717</td><td>3.3595603 .. 0.57347244</td><td>0.0015672323</td><td>0.0 .. 0.0</td><td>864.65924</td><td>19.81707 .. 0.57347244</td><td>1564.7806 .. 0.57347244</td><td>0</td><td>7312.039 .. 21361.033</td><td>0.23238775</td><td>0.0025445826</td><td>0.0</td><td>0.033149388</td><td>-14449.886 .. -6353.1504</td><td>0.69676465 .. 0.00088317733</td><td>0.691265 .. 0.00095756864</td><td>0.6343218 .. 0.0017026485</td><td>0.035765532</td><td>0.038853627</td><td>0.06925137</td><td>-24.617525 .. -26.897652</td><td>238.28835</td><td>47.783466</td><td>22.484299 .. -50.557457</td><td>491.50446</td><td>1176.6489</td><td>0.019830668</td><td>0.015698811</td></tr>\n",
       "<tr><td>0.053600773</td><td>6.4235473e-06</td><td>6586.781 .. 21444.9</td><td>True</td><td>0.68318826 .. 0.0023310736</td><td>0.67772895 .. 0.0025420939</td><td>0.6717798 .. 0.0027243148</td><td>0.0 .. 0.0</td><td>0.0 .. 0.0</td><td>0.038634345</td><td>0.042457167</td><td>0.047510017</td><td>0.0</td><td>0.0</td><td>0</td><td>33.696327</td><td>12.120722 .. 0.0</td><td>118501667100</td><td>11702180</td><td>1579 .. 1</td><td>174.9854</td><td>21.931885</td><td>0.0030496141 .. 0.053600773</td><td>7.257973</td><td>0.00010708875 .. 0.053600773</td><td>39.094353</td><td>0.007010192 .. 0.053600773</td><td>0.013445565 .. 0.053600773</td><td>0</td><td>6585.902 .. 21445.16</td><td>0.0</td><td>0.0</td><td>0.0</td><td>0.0</td><td>369.5494 .. 494.86087</td><td>0.703517 .. 0.00085415586</td><td>0.6991059 .. 0.0009319038</td><td>0.68640286 .. 0.0011413184</td><td>0.03416954</td><td>0.037712302</td><td>0.046635866</td><td>-21.447233 .. -23.87557</td><td>21.730553</td><td>13.144728</td><td>-74.93857 .. -251.94264</td><td>212.10391</td><td>551.4844</td><td>1.1394057</td><td>0.0</td></tr>\n",
       "<tr><td>0.029704027</td><td>1.3411592e-05</td><td>6671.5044 .. 20242.807</td><td>True</td><td>0.7094432 .. 0.0012051217</td><td>0.70470613 .. 0.0013871791</td><td>0.69601744 .. 0.0017655961</td><td>0.0 .. 0.0</td><td>0.0 .. 0.0</td><td>0.02553611</td><td>0.028268455</td><td>0.03385207</td><td>0.0</td><td>0.0</td><td>0</td><td>74.099785</td><td>137.21202 .. 0.0</td><td>121667436284</td><td>8716103</td><td>298027 .. 1</td><td>171.46075</td><td>11.389173</td><td>0.0047588516 .. 0.029704027</td><td>2.3920276</td><td>0.00010422259 .. 0.029704027</td><td>20.648033</td><td>0.013440809 .. 0.029704027</td><td>1.8983397 .. 0.029704027</td><td>0</td><td>6683.2734 .. 20228.686</td><td>0.0</td><td>0.0</td><td>0.0</td><td>0.0</td><td>-1630.0814 .. -712.5222</td><td>0.7135964 .. 0.0007464877</td><td>0.70997435 .. 0.000821965</td><td>0.6994514 .. 0.0010254227</td><td>0.02871196</td><td>0.03174238</td><td>0.040206425</td><td>-21.176157 .. -23.390656</td><td>9.837408</td><td>9.695241</td><td>-20.960781 .. 722.6237</td><td>148.17752</td><td>361.47766</td><td>0.8740441</td><td>9.013242e-05</td></tr>\n",
       "<tr><td>0.020089064</td><td>6.082999e-06</td><td>7529.4688 .. 21132.898</td><td>True</td><td>0.68033695 .. 0.0026191818</td><td>0.6731315 .. 0.0027723508</td><td>0.6712792 .. 0.0028063485</td><td>0.0 .. 0.0</td><td>0.0 .. 0.0</td><td>0.043324176</td><td>0.048441455</td><td>0.049781997</td><td>0.0</td><td>0.0</td><td>0</td><td>15.007411</td><td>3.9790182 .. 0.0</td><td>131264972396</td><td>2585971</td><td>371 .. 1</td><td>35.2357</td><td>4.3519096</td><td>0.0005686489 .. 0.020089064</td><td>2.8067904</td><td>0.00015175194 .. 0.020089064</td><td>6.557604</td><td>0.0015816367 .. 0.020089064</td><td>0.003232896 .. 0.020089064</td><td>0</td><td>7529.3247 .. 21132.621</td><td>0.0</td><td>0.0</td><td>0.0</td><td>0.0</td><td>-43.492798 .. -62.57867</td><td>0.70545197 .. 0.0008841857</td><td>0.6998599 .. 0.0009886136</td><td>0.6929502 .. 0.0011163839</td><td>0.0349593</td><td>0.039108176</td><td>0.044121273</td><td>-19.965893 .. -22.348349</td><td>5.24612</td><td>5.7231183</td><td>-118.29275 .. -542.0229</td><td>141.11865</td><td>376.4701</td><td>0.9455472</td><td>0.0</td></tr>\n",
       "<tr><td>0.019614158</td><td>4.138886e-06</td><td>6709.409 .. 21425.486</td><td>True</td><td>0.6886724 .. 0.0024738237</td><td>0.68413395 .. 0.0025714035</td><td>0.6840961 .. 0.0025720177</td><td>0.0 .. 0.0</td><td>0.0 .. 0.0</td><td>0.036996733</td><td>0.040354248</td><td>0.040363964</td><td>0.0</td><td>0.0</td><td>0</td><td>6.8869643</td><td>3.1866522 .. 0.0</td><td>126908618421</td><td>2074834</td><td>277 .. 1</td><td>20.870028</td><td>4.1147723</td><td>0.00034028522 .. 0.019614158</td><td>3.0609472</td><td>0.00013870712 .. 0.019614158</td><td>6.1660633</td><td>0.0011587797 .. 0.019614158</td><td>0.0023880962 .. 0.019614158</td><td>0</td><td>6709.2856 .. 21425.479</td><td>0.0</td><td>0.0</td><td>0.0</td><td>0.0</td><td>13.106042 .. -148.28917</td><td>0.7096412 .. 0.0008169756</td><td>0.7043829 .. 0.0009204515</td><td>0.70003104 .. 0.0010078736</td><td>0.03208817</td><td>0.03609437</td><td>0.039411232</td><td>-19.903948 .. -22.301996</td><td>5.338641</td><td>5.8168836</td><td>422.54996 .. 121.290634</td><td>156.34756</td><td>371.14758</td><td>1.0609429</td><td>0.0</td></tr>\n",
       "</table></div>"
      ],
      "text/plain": [
       "<Table length=5>\n",
       "SubhaloBHMass SubhaloBHMdot ... SubhaloVmaxRad SubhaloWindMass\n",
       "   float32       float32    ...    float32         float32    \n",
       "------------- ------------- ... -------------- ---------------\n",
       "   0.57347244   0.000547174 ...    0.019830668     0.015698811\n",
       "  0.053600773 6.4235473e-06 ...      1.1394057             0.0\n",
       "  0.029704027 1.3411592e-05 ...      0.8740441    9.013242e-05\n",
       "  0.020089064  6.082999e-06 ...      0.9455472             0.0\n",
       "  0.019614158  4.138886e-06 ...      1.0609429             0.0"
      ]
     },
     "execution_count": 6,
     "metadata": {},
     "output_type": "execute_result"
    }
   ],
   "source": [
    "tab_sub[:5]"
   ]
  },
  {
   "cell_type": "code",
   "execution_count": 7,
   "id": "ec07c393",
   "metadata": {},
   "outputs": [
    {
     "data": {
      "text/html": [
       "<div><i>Table length=5</i>\n",
       "<table id=\"table22775102245776\" class=\"table-striped table-bordered table-condensed\">\n",
       "<thead><tr><th>GroupBHMass</th><th>GroupBHMdot</th><th>GroupCM [3]</th><th>GroupFirstSub</th><th>GroupGasMetalFractions [10]</th><th>GroupGasMetallicity</th><th>GroupLen</th><th>GroupLenType [6]</th><th>GroupMass</th><th>GroupMassType [6]</th><th>GroupNsubs</th><th>GroupPos [3]</th><th>GroupSFR</th><th>GroupStarMetalFractions [10]</th><th>GroupStarMetallicity</th><th>GroupVel [3]</th><th>GroupWindMass</th><th>Group_M_Crit200</th><th>Group_M_Crit500</th><th>Group_M_Mean200</th><th>Group_M_TopHat200</th><th>Group_R_Crit200</th><th>Group_R_Crit500</th><th>Group_R_Mean200</th><th>Group_R_TopHat200</th></tr></thead>\n",
       "<thead><tr><th>float32</th><th>float32</th><th>float32</th><th>int32</th><th>float32</th><th>float32</th><th>int32</th><th>int32</th><th>float32</th><th>float32</th><th>int32</th><th>float32</th><th>float32</th><th>float32</th><th>float32</th><th>float32</th><th>float32</th><th>float32</th><th>float32</th><th>float32</th><th>float32</th><th>float32</th><th>float32</th><th>float32</th><th>float32</th></tr></thead>\n",
       "<tr><td>0.9805005</td><td>0.0045273034</td><td>7258.7583 .. 21341.934</td><td>0</td><td>0.7485814 .. 0.00018008049</td><td>0.0053932816</td><td>832201411</td><td>260543306 .. 110</td><td>15567.6455</td><td>1591.4745 .. 0.9805005</td><td>70033</td><td>7312.039 .. 21361.033</td><td>16.202993</td><td>0.7118887 .. 0.0007001555</td><td>0.028001344</td><td>20.881842 .. -42.254536</td><td>0.02535899</td><td>12416.608</td><td>8845.411</td><td>16841.135</td><td>15260.764</td><td>868.84045</td><td>571.73975</td><td>1328.6283</td><td>1130.0176</td></tr>\n",
       "<tr><td>0.4214037</td><td>0.007083357</td><td>23572.344 .. 3113.7551</td><td>70033</td><td>0.749709 .. 0.0001536227</td><td>0.0048948885</td><td>357806987</td><td>117883524 .. 69</td><td>6691.733</td><td>713.1763 .. 0.4214037</td><td>30909</td><td>23620.027 .. 3083.0535</td><td>89.02114</td><td>0.7192803 .. 0.0006199111</td><td>0.0244693</td><td>82.02126 .. 14.276535</td><td>0.03901457</td><td>5512.5264</td><td>4313.3335</td><td>7002.325</td><td>6317.306</td><td>662.8147</td><td>450.01218</td><td>991.668</td><td>842.1727</td></tr>\n",
       "<tr><td>0.37609854</td><td>0.004075157</td><td>27234.98 .. 4065.1492</td><td>100942</td><td>0.7488105 .. 0.00017028867</td><td>0.005302303</td><td>239111500</td><td>74240955 .. 42</td><td>4446.737</td><td>451.218 .. 0.37609854</td><td>17240</td><td>27231.121 .. 4079.2424</td><td>32.56073</td><td>0.71825725 .. 0.000629558</td><td>0.024959264</td><td>-114.803925 .. -8.088369</td><td>0.021668151</td><td>4247.807</td><td>3320.8325</td><td>5228.0103</td><td>4835.429</td><td>607.67474</td><td>412.4534</td><td>899.60345</td><td>770.36145</td></tr>\n",
       "<tr><td>0.27427444</td><td>0.015137708</td><td>15688.365 .. 26024.146</td><td>118182</td><td>0.7447135 .. 0.00022333208</td><td>0.0072200177</td><td>173198534</td><td>47973505 .. 48</td><td>3232.7854</td><td>291.05713 .. 0.27427444</td><td>16453</td><td>15641.004 .. 25950.252</td><td>75.46654</td><td>0.7170893 .. 0.0006559825</td><td>0.025587285</td><td>-47.95678 .. -11.698419</td><td>0.03632192</td><td>2668.3406</td><td>1721.8948</td><td>3677.5461</td><td>3291.1023</td><td>520.4137</td><td>331.35672</td><td>800.0801</td><td>677.6549</td></tr>\n",
       "<tr><td>0.23221496</td><td>0.0033231457</td><td>17332.895 .. 29133.121</td><td>134635</td><td>0.7475816 .. 0.00018193953</td><td>0.0059134336</td><td>156860008</td><td>43507302 .. 38</td><td>3028.3796</td><td>262.72125 .. 0.23221496</td><td>15642</td><td>17329.217 .. 29485.555</td><td>97.4339</td><td>0.7211824 .. 0.0006019899</td><td>0.023605471</td><td>-8.162877 .. -56.83696</td><td>0.02329257</td><td>1476.5806</td><td>940.5208</td><td>1904.0961</td><td>1740.1062</td><td>427.25424</td><td>270.87012</td><td>642.45355</td><td>547.9594</td></tr>\n",
       "</table></div>"
      ],
      "text/plain": [
       "<Table length=5>\n",
       "GroupBHMass GroupBHMdot  ... Group_R_Mean200 Group_R_TopHat200\n",
       "  float32     float32    ...     float32          float32     \n",
       "----------- ------------ ... --------------- -----------------\n",
       "  0.9805005 0.0045273034 ...       1328.6283         1130.0176\n",
       "  0.4214037  0.007083357 ...         991.668          842.1727\n",
       " 0.37609854  0.004075157 ...       899.60345         770.36145\n",
       " 0.27427444  0.015137708 ...        800.0801          677.6549\n",
       " 0.23221496 0.0033231457 ...       642.45355          547.9594"
      ]
     },
     "execution_count": 7,
     "metadata": {},
     "output_type": "execute_result"
    }
   ],
   "source": [
    "tab_grp[:5]"
   ]
  },
  {
   "cell_type": "code",
   "execution_count": 11,
   "id": "255cfe08",
   "metadata": {},
   "outputs": [
    {
     "data": {
      "text/plain": [
       "70033"
      ]
     },
     "execution_count": 11,
     "metadata": {},
     "output_type": "execute_result"
    }
   ],
   "source": [
    "tab_grp['GroupFirstSub'][1]"
   ]
  },
  {
   "cell_type": "code",
   "execution_count": 12,
   "id": "8e1bee83",
   "metadata": {},
   "outputs": [
    {
     "data": {
      "text/plain": [
       "1"
      ]
     },
     "execution_count": 12,
     "metadata": {},
     "output_type": "execute_result"
    }
   ],
   "source": [
    "tab_sub['SubhaloGrNr'][70033]"
   ]
  },
  {
   "cell_type": "code",
   "execution_count": 8,
   "id": "78521ce6",
   "metadata": {},
   "outputs": [
    {
     "data": {
      "text/plain": [
       "5141735"
      ]
     },
     "execution_count": 8,
     "metadata": {},
     "output_type": "execute_result"
    }
   ],
   "source": [
    "tab_grp['GroupFirstSub'][0]"
   ]
  },
  {
   "cell_type": "code",
   "execution_count": 6,
   "id": "1d6c702d",
   "metadata": {},
   "outputs": [
    {
     "data": {
      "text/html": [
       "&lt;MaskedColumn name=&apos;Group_M_Crit200&apos; dtype=&apos;float32&apos; length=10366762&gt;\n",
       "<table>\n",
       "<tr><td>0.00067620893</td></tr>\n",
       "<tr><td>0.0</td></tr>\n",
       "<tr><td>0.0</td></tr>\n",
       "<tr><td>0.0</td></tr>\n",
       "<tr><td>0.0</td></tr>\n",
       "<tr><td>0.0</td></tr>\n",
       "<tr><td>0.0009528399</td></tr>\n",
       "<tr><td>0.0</td></tr>\n",
       "<tr><td>0.0</td></tr>\n",
       "<tr><td>0.0</td></tr>\n",
       "<tr><td>0.0</td></tr>\n",
       "<tr><td>0.0</td></tr>\n",
       "<tr><td>...</td></tr>\n",
       "<tr><td>0.0</td></tr>\n",
       "<tr><td>0.004149464</td></tr>\n",
       "<tr><td>0.0</td></tr>\n",
       "<tr><td>0.003143717</td></tr>\n",
       "<tr><td>0.0039957804</td></tr>\n",
       "<tr><td>0.0037554929</td></tr>\n",
       "<tr><td>0.0</td></tr>\n",
       "<tr><td>63.13521</td></tr>\n",
       "<tr><td>47.938206</td></tr>\n",
       "<tr><td>62.213455</td></tr>\n",
       "<tr><td>71.56371</td></tr>\n",
       "<tr><td>66.258484</td></tr>\n",
       "</table>"
      ],
      "text/plain": [
       "<MaskedColumn name='Group_M_Crit200' dtype='float32' length=10366762>\n",
       "0.00067620893\n",
       "          0.0\n",
       "          0.0\n",
       "          0.0\n",
       "          0.0\n",
       "          0.0\n",
       " 0.0009528399\n",
       "          0.0\n",
       "          0.0\n",
       "          0.0\n",
       "          0.0\n",
       "          0.0\n",
       "          ...\n",
       "          0.0\n",
       "  0.004149464\n",
       "          0.0\n",
       "  0.003143717\n",
       " 0.0039957804\n",
       " 0.0037554929\n",
       "          0.0\n",
       "     63.13521\n",
       "    47.938206\n",
       "    62.213455\n",
       "     71.56371\n",
       "    66.258484"
      ]
     },
     "execution_count": 6,
     "metadata": {},
     "output_type": "execute_result"
    }
   ],
   "source": [
    "tab_grp['Group_M_Crit200']"
   ]
  },
  {
   "cell_type": "code",
   "execution_count": null,
   "id": "5fe724ec",
   "metadata": {},
   "outputs": [],
   "source": [
    "pos_sub, pos_grp = [], [] \n",
    "subfind_id = [] \n",
    "for i in range(680): \n",
    "    _tab = h5py.File(os.path.join(dat_dir, 'fof_subhalo_tab_0%i.%i.hdf5' % (snapshot, i)))\n",
    "    sub = _tab['Subhalo']\n",
    "    if len(sub.keys()) > 0: \n",
    "        pos_sub.append(sub['SubhaloPos'][...])\n",
    "    \n",
    "    grp = _tab['Group']\n",
    "    if len(grp.keys()) > 0: \n",
    "        mass = grp['Group_M_Crit200'][...]\n",
    "        \n",
    "        subfind_id.append(grp['GroupFirstSub'][...][mass > 0])\n",
    "        pos_grp.append(grp['GroupPos'][...][mass > 0])\n",
    "        \n",
    "subfind_id = np.concatenate(subfind_id)\n",
    "pos_sub = np.concatenate(pos_sub)\n",
    "pos_grp = np.concatenate(pos_grp)"
   ]
  },
  {
   "cell_type": "code",
   "execution_count": 3,
   "id": "be498143",
   "metadata": {},
   "outputs": [],
   "source": [
    "pos_sub, pos_grp = [], [] \n",
    "subfind_id = [] \n",
    "for i in range(680): \n",
    "    _tab = h5py.File(os.path.join(dat_dir, 'fof_subhalo_tab_0%i.%i.hdf5' % (snapshot, i)))\n",
    "    sub = _tab['Subhalo']\n",
    "    if len(sub.keys()) > 0: \n",
    "        pos_sub.append(sub['SubhaloPos'][...])\n",
    "    \n",
    "    grp = _tab['Group']\n",
    "    if len(grp.keys()) > 0: \n",
    "        mass = grp['Group_M_Crit200'][...]\n",
    "        \n",
    "        subfind_id.append(grp['GroupFirstSub'][...][mass > 0])\n",
    "        pos_grp.append(grp['GroupPos'][...][mass > 0])\n",
    "        \n",
    "subfind_id = np.concatenate(subfind_id)\n",
    "pos_sub = np.concatenate(pos_sub)\n",
    "pos_grp = np.concatenate(pos_grp)"
   ]
  },
  {
   "cell_type": "code",
   "execution_count": 12,
   "id": "e1f9271f",
   "metadata": {},
   "outputs": [
    {
     "data": {
      "text/plain": [
       "<KeysViewHDF5 ['Config', 'Group', 'Header', 'IDs', 'Parameters', 'Subhalo']>"
      ]
     },
     "execution_count": 12,
     "metadata": {},
     "output_type": "execute_result"
    }
   ],
   "source": [
    "_tab.keys()"
   ]
  },
  {
   "cell_type": "code",
   "execution_count": 14,
   "id": "0f765f32",
   "metadata": {},
   "outputs": [
    {
     "data": {
      "text/plain": [
       "<KeysViewHDF5 ['SubhaloBHMass', 'SubhaloBHMdot', 'SubhaloCM', 'SubhaloFlag', 'SubhaloGasMetalFractions', 'SubhaloGasMetalFractionsHalfRad', 'SubhaloGasMetalFractionsMaxRad', 'SubhaloGasMetalFractionsSfr', 'SubhaloGasMetalFractionsSfrWeighted', 'SubhaloGasMetallicity', 'SubhaloGasMetallicityHalfRad', 'SubhaloGasMetallicityMaxRad', 'SubhaloGasMetallicitySfr', 'SubhaloGasMetallicitySfrWeighted', 'SubhaloGrNr', 'SubhaloHalfmassRad', 'SubhaloHalfmassRadType', 'SubhaloIDMostbound', 'SubhaloLen', 'SubhaloLenType', 'SubhaloMass', 'SubhaloMassInHalfRad', 'SubhaloMassInHalfRadType', 'SubhaloMassInMaxRad', 'SubhaloMassInMaxRadType', 'SubhaloMassInRad', 'SubhaloMassInRadType', 'SubhaloMassType', 'SubhaloParent', 'SubhaloPos', 'SubhaloSFR', 'SubhaloSFRinHalfRad', 'SubhaloSFRinMaxRad', 'SubhaloSFRinRad', 'SubhaloSpin', 'SubhaloStarMetalFractions', 'SubhaloStarMetalFractionsHalfRad', 'SubhaloStarMetalFractionsMaxRad', 'SubhaloStarMetallicity', 'SubhaloStarMetallicityHalfRad', 'SubhaloStarMetallicityMaxRad', 'SubhaloStellarPhotometrics', 'SubhaloStellarPhotometricsMassInRad', 'SubhaloStellarPhotometricsRad', 'SubhaloVel', 'SubhaloVelDisp', 'SubhaloVmax', 'SubhaloVmaxRad', 'SubhaloWindMass']>"
      ]
     },
     "execution_count": 14,
     "metadata": {},
     "output_type": "execute_result"
    }
   ],
   "source": [
    "_tab['Subhalo'].keys()"
   ]
  },
  {
   "cell_type": "code",
   "execution_count": 15,
   "id": "7a406149",
   "metadata": {},
   "outputs": [
    {
     "data": {
      "text/plain": [
       "<KeysViewHDF5 ['SubhaloBHMass', 'SubhaloBHMdot', 'SubhaloCM', 'SubhaloFlag', 'SubhaloGasMetalFractions', 'SubhaloGasMetalFractionsHalfRad', 'SubhaloGasMetalFractionsMaxRad', 'SubhaloGasMetalFractionsSfr', 'SubhaloGasMetalFractionsSfrWeighted', 'SubhaloGasMetallicity', 'SubhaloGasMetallicityHalfRad', 'SubhaloGasMetallicityMaxRad', 'SubhaloGasMetallicitySfr', 'SubhaloGasMetallicitySfrWeighted', 'SubhaloGrNr', 'SubhaloHalfmassRad', 'SubhaloHalfmassRadType', 'SubhaloIDMostbound', 'SubhaloLen', 'SubhaloLenType', 'SubhaloMass', 'SubhaloMassInHalfRad', 'SubhaloMassInHalfRadType', 'SubhaloMassInMaxRad', 'SubhaloMassInMaxRadType', 'SubhaloMassInRad', 'SubhaloMassInRadType', 'SubhaloMassType', 'SubhaloParent', 'SubhaloPos', 'SubhaloSFR', 'SubhaloSFRinHalfRad', 'SubhaloSFRinMaxRad', 'SubhaloSFRinRad', 'SubhaloSpin', 'SubhaloStarMetalFractions', 'SubhaloStarMetalFractionsHalfRad', 'SubhaloStarMetalFractionsMaxRad', 'SubhaloStarMetallicity', 'SubhaloStarMetallicityHalfRad', 'SubhaloStarMetallicityMaxRad', 'SubhaloStellarPhotometrics', 'SubhaloStellarPhotometricsMassInRad', 'SubhaloStellarPhotometricsRad', 'SubhaloVel', 'SubhaloVelDisp', 'SubhaloVmax', 'SubhaloVmaxRad', 'SubhaloWindMass']>"
      ]
     },
     "execution_count": 15,
     "metadata": {},
     "output_type": "execute_result"
    }
   ],
   "source": [
    "sub.keys()"
   ]
  },
  {
   "cell_type": "code",
   "execution_count": 25,
   "id": "89aa0649",
   "metadata": {},
   "outputs": [
    {
     "data": {
      "text/plain": [
       "<KeysViewHDF5 ['GroupBHMass', 'GroupBHMdot', 'GroupCM', 'GroupFirstSub', 'GroupGasMetalFractions', 'GroupGasMetallicity', 'GroupLen', 'GroupLenType', 'GroupMass', 'GroupMassType', 'GroupNsubs', 'GroupPos', 'GroupSFR', 'GroupStarMetalFractions', 'GroupStarMetallicity', 'GroupVel', 'GroupWindMass', 'Group_M_Crit200', 'Group_M_Crit500', 'Group_M_Mean200', 'Group_M_TopHat200', 'Group_R_Crit200', 'Group_R_Crit500', 'Group_R_Mean200', 'Group_R_TopHat200']>"
      ]
     },
     "execution_count": 25,
     "metadata": {},
     "output_type": "execute_result"
    }
   ],
   "source": [
    "grp.keys()"
   ]
  },
  {
   "cell_type": "code",
   "execution_count": 23,
   "id": "83d983ff",
   "metadata": {},
   "outputs": [
    {
     "data": {
      "text/plain": [
       "array([10299546, 10299551, 10299555, ..., 10366734, 10366735, 10366741],\n",
       "      dtype=int32)"
      ]
     },
     "execution_count": 23,
     "metadata": {},
     "output_type": "execute_result"
    }
   ],
   "source": [
    "sub['SubhaloGrNr'][...]"
   ]
  },
  {
   "cell_type": "code",
   "execution_count": null,
   "id": "54d1a4bb",
   "metadata": {},
   "outputs": [],
   "source": [
    "sub['Subhalo']"
   ]
  },
  {
   "cell_type": "code",
   "execution_count": 10,
   "id": "f9ce8ac0",
   "metadata": {},
   "outputs": [
    {
     "data": {
      "text/plain": [
       "<KeysViewHDF5 ['GroupBHMass', 'GroupBHMdot', 'GroupCM', 'GroupFirstSub', 'GroupGasMetalFractions', 'GroupGasMetallicity', 'GroupLen', 'GroupLenType', 'GroupMass', 'GroupMassType', 'GroupNsubs', 'GroupPos', 'GroupSFR', 'GroupStarMetalFractions', 'GroupStarMetallicity', 'GroupVel', 'GroupWindMass', 'Group_M_Crit200', 'Group_M_Crit500', 'Group_M_Mean200', 'Group_M_TopHat200', 'Group_R_Crit200', 'Group_R_Crit500', 'Group_R_Mean200', 'Group_R_TopHat200']>"
      ]
     },
     "execution_count": 10,
     "metadata": {},
     "output_type": "execute_result"
    }
   ],
   "source": [
    "_tab['Group'].keys()"
   ]
  },
  {
   "cell_type": "code",
   "execution_count": 4,
   "id": "215ad423",
   "metadata": {},
   "outputs": [
    {
     "data": {
      "text/plain": [
       "array([      0,   70033,  100942, ..., 5806490, 5806491, 5806492],\n",
       "      dtype=int32)"
      ]
     },
     "execution_count": 4,
     "metadata": {},
     "output_type": "execute_result"
    }
   ],
   "source": [
    "subfind_id"
   ]
  },
  {
   "cell_type": "code",
   "execution_count": 4,
   "id": "68ee4276",
   "metadata": {},
   "outputs": [
    {
     "data": {
      "text/plain": [
       "array([[0., 0., 0.],\n",
       "       [0., 0., 0.],\n",
       "       [0., 0., 0.],\n",
       "       ...,\n",
       "       [0., 0., 0.],\n",
       "       [0., 0., 0.],\n",
       "       [0., 0., 0.]], dtype=float32)"
      ]
     },
     "execution_count": 4,
     "metadata": {},
     "output_type": "execute_result"
    }
   ],
   "source": [
    "pos_sub[subfind_id] - pos_grp"
   ]
  },
  {
   "cell_type": "code",
   "execution_count": 5,
   "id": "9e006f77",
   "metadata": {},
   "outputs": [],
   "source": [
    "np.save('/Users/chahah/data/frb_halos/centrals.subfind_id.npy', subfind_id)"
   ]
  },
  {
   "cell_type": "code",
   "execution_count": null,
   "id": "8fc9789a",
   "metadata": {},
   "outputs": [],
   "source": []
  }
 ],
 "metadata": {
  "kernelspec": {
   "display_name": "uhod",
   "language": "python",
   "name": "uhod"
  },
  "language_info": {
   "codemirror_mode": {
    "name": "ipython",
    "version": 3
   },
   "file_extension": ".py",
   "mimetype": "text/x-python",
   "name": "python",
   "nbconvert_exporter": "python",
   "pygments_lexer": "ipython3",
   "version": "3.7.11"
  }
 },
 "nbformat": 4,
 "nbformat_minor": 5
}
