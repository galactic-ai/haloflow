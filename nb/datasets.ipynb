{
 "cells": [
  {
   "cell_type": "markdown",
   "metadata": {},
   "source": [
    "# construct Training/Testing datasets of central subhalos\n",
    "Use subhalos and central/satellite information compiled in `compile_subhalos.ipynb` and `groupcat.ipynb` to compile training and testing datasets for the NPE"
   ]
  },
  {
   "cell_type": "code",
   "execution_count": 1,
   "metadata": {},
   "outputs": [],
   "source": [
    "import os, h5py, glob\n",
    "import numpy as np\n",
    "from tqdm.notebook import tqdm, trange\n",
    "from astropy.table import Table, vstack"
   ]
  },
  {
   "cell_type": "code",
   "execution_count": 2,
   "metadata": {},
   "outputs": [],
   "source": [
    "snapshot = 91\n",
    "dat_dir = '/scratch/gpfs/chhahn/haloflow/'\n",
    "grp_dir = '/scratch/gpfs/chhahn/haloflow/groupcat/idark.ipmu.jp/hsc405/GroupCats/groups_0%i/' % snapshot"
   ]
  },
  {
   "cell_type": "code",
   "execution_count": 3,
   "metadata": {},
   "outputs": [],
   "source": [
    "h = 0.6773358287273804"
   ]
  },
  {
   "cell_type": "markdown",
   "metadata": {},
   "source": [
    "read in all compiled subhalo and only keep those at `snapshot = 91`, which corresponds to $z=0.1$"
   ]
  },
  {
   "cell_type": "code",
   "execution_count": 4,
   "metadata": {},
   "outputs": [
    {
     "name": "stdout",
     "output_type": "stream",
     "text": [
      "12188 subhalos\n"
     ]
    }
   ],
   "source": [
    "subhalo = Table.read(os.path.join(dat_dir, 'subhalos_morph.csv'))\n",
    "is_snap  = (subhalo['snapshot'] == snapshot)\n",
    "subhalo = subhalo[is_snap]\n",
    "print('%i subhalos' % len(subhalo))"
   ]
  },
  {
   "cell_type": "markdown",
   "metadata": {},
   "source": [
    "read in subhalos and group catalog data "
   ]
  },
  {
   "cell_type": "code",
   "execution_count": 5,
   "metadata": {},
   "outputs": [],
   "source": [
    "# compile subhalos and groups\n",
    "tab_sub, tab_grp = [], []\n",
    "for i in range(np.max([int(fsub.split('.')[-2]) for fsub in glob.glob(os.path.join(grp_dir, '*.hdf5'))])+1): \n",
    "    with h5py.File(os.path.join(grp_dir, 'fof_subhalo_tab_0%i.%i.hdf5' % (snapshot, i)), 'r') as fsub: \n",
    "        _tab = Table()\n",
    "        for k in fsub['Subhalo'].keys():\n",
    "            _tab[k] = fsub['Subhalo'][k][...]\n",
    "        tab_sub.append(_tab)\n",
    "    \n",
    "        _tab = Table()\n",
    "        for k in fsub['Group'].keys():\n",
    "            _tab[k] = fsub['Group'][k][...]\n",
    "        tab_grp.append(_tab)\n",
    "        \n",
    "tab_sub = vstack(tab_sub)        \n",
    "tab_grp = vstack(tab_grp)   "
   ]
  },
  {
   "cell_type": "markdown",
   "metadata": {},
   "source": [
    "# compile central subhalos"
   ]
  },
  {
   "cell_type": "code",
   "execution_count": 6,
   "metadata": {},
   "outputs": [
    {
     "name": "stdout",
     "output_type": "stream",
     "text": [
      "7468 centrals out of 12188 subhalos\n"
     ]
    }
   ],
   "source": [
    "central_subid = tab_grp['GroupFirstSub'][tab_grp['GroupFirstSub'] != -1]\n",
    "is_central = np.array([_id in central_subid for _id in subhalo['subhalo_id']])\n",
    "print('%i centrals out of %i subhalos' % (np.sum(is_central), len(is_central)))\n",
    "\n",
    "subhalo = subhalo[is_central]"
   ]
  },
  {
   "cell_type": "code",
   "execution_count": 8,
   "metadata": {},
   "outputs": [
    {
     "name": "stderr",
     "output_type": "stream",
     "text": [
      "/home/chhahn/.conda/envs/uhod/lib/python3.7/site-packages/ipykernel_launcher.py:5: RuntimeWarning: divide by zero encountered in log10\n",
      "  \"\"\"\n"
     ]
    },
    {
     "data": {
      "application/vnd.jupyter.widget-view+json": {
       "model_id": "b9419d19ad884a0c82508955456dc17e",
       "version_major": 2,
       "version_minor": 0
      },
      "text/plain": [
       "  0%|          | 0/1867 [00:00<?, ?it/s]"
      ]
     },
     "metadata": {},
     "output_type": "display_data"
    }
   ],
   "source": [
    "lum_has_stars = np.zeros((len(subhalo), 4))\n",
    "lum_above_mlim = np.zeros((len(subhalo), 4))\n",
    "\n",
    "has_stars = tab_sub['SubhaloMassType'][:,4] > 0\n",
    "above_mlim = np.log10(tab_sub['SubhaloMassType'][:,4] * 10**10 / h) > 9.\n",
    "\n",
    "for i_sub in tqdm(np.unique(subhalo['subhalo_id'])): \n",
    "    i_grp = tab_sub['SubhaloGrNr'][i_sub]\n",
    "    in_group = (tab_sub['SubhaloGrNr'] == i_grp) & (np.arange(len(tab_sub)) != i_sub)\n",
    "    \n",
    "    # g, r, i, z\n",
    "    is_sub = (subhalo['subhalo_id'] == i_sub)\n",
    "    lum_has_stars[is_sub,:] = np.tile(\n",
    "        np.sum(10**(-0.4 * tab_sub[in_group & has_stars]['SubhaloStellarPhotometrics'][:,4:]), axis=0), \n",
    "        (np.sum(is_sub),1))\n",
    "    lum_above_mlim[is_sub,:] = np.tile(\n",
    "        np.sum(10**(-0.4 * tab_sub[in_group & above_mlim]['SubhaloStellarPhotometrics'][:,4:]), axis=0), \n",
    "        (np.sum(is_sub),1))"
   ]
  },
  {
   "cell_type": "code",
   "execution_count": 12,
   "metadata": {},
   "outputs": [],
   "source": [
    "subhalo['lum_has_stars'] = lum_has_stars\n",
    "subhalo['lum_above_mlim'] = lum_above_mlim"
   ]
  },
  {
   "cell_type": "code",
   "execution_count": 13,
   "metadata": {},
   "outputs": [
    {
     "data": {
      "text/html": [
       "<div><i>Table length=7468</i>\n",
       "<table id=\"table22868251980688\" class=\"table-striped table-bordered table-condensed\">\n",
       "<thead><tr><th>g_Sersic_Reff</th><th>g_Sersic_mag</th><th>g_Sersic_dmag_m</th><th>g_Sersic_dmag_p</th><th>g_CAS_C</th><th>g_CAS_A</th><th>snapshot</th><th>subhalo_id</th><th>version</th><th>i_Sersic_Reff</th><th>i_Sersic_mag</th><th>i_Sersic_dmag_m</th><th>i_Sersic_dmag_p</th><th>i_CAS_C</th><th>i_CAS_A</th><th>r_Sersic_Reff</th><th>r_Sersic_mag</th><th>r_Sersic_dmag_m</th><th>r_Sersic_dmag_p</th><th>r_CAS_C</th><th>r_CAS_A</th><th>y_Sersic_Reff</th><th>y_Sersic_mag</th><th>y_Sersic_dmag_m</th><th>y_Sersic_dmag_p</th><th>y_CAS_C</th><th>y_CAS_A</th><th>z_Sersic_Reff</th><th>z_Sersic_mag</th><th>z_Sersic_dmag_m</th><th>z_Sersic_dmag_p</th><th>z_CAS_C</th><th>z_CAS_A</th><th>SubhaloMassType_stars</th><th>SubhaloMassType_dm</th><th>lum_has_stars [4]</th><th>lum_above_mlim [4]</th></tr></thead>\n",
       "<thead><tr><th>float64</th><th>float64</th><th>float64</th><th>float64</th><th>float64</th><th>float64</th><th>int64</th><th>int64</th><th>str2</th><th>float64</th><th>float64</th><th>float64</th><th>float64</th><th>float64</th><th>float64</th><th>float64</th><th>float64</th><th>float64</th><th>float64</th><th>float64</th><th>float64</th><th>float64</th><th>float64</th><th>float64</th><th>float64</th><th>float64</th><th>float64</th><th>float64</th><th>float64</th><th>float64</th><th>float64</th><th>float64</th><th>float64</th><th>float64</th><th>float64</th><th>float64</th><th>float64</th></tr></thead>\n",
       "<tr><td>19.3399</td><td>13.3532</td><td>-0.000235766</td><td>0.000968579</td><td>5.48404</td><td>0.128438</td><td>91</td><td>0</td><td>v3</td><td>19.0344</td><td>11.9149</td><td>-0.00614352</td><td>0.0441109</td><td>5.5885</td><td>0.151465</td><td>19.3865</td><td>12.4089</td><td>-0.00406867</td><td>0.000176909</td><td>5.48404</td><td>0.135967</td><td>18.6958</td><td>11.5054</td><td>-0.017918</td><td>0.25913</td><td>5.5386</td><td>0.135583</td><td>18.4421</td><td>11.6366</td><td>-0.0187289</td><td>0.160165</td><td>5.64329</td><td>0.1419</td><td>12.7342</td><td>14.2415</td><td>7794981376.0 .. 25328717824.0</td><td>7279218176.0 .. 24038508544.0</td></tr>\n",
       "<tr><td>17.8423</td><td>13.3935</td><td>-0.00436186</td><td>0.00183683</td><td>5.38695</td><td>0.0904381</td><td>91</td><td>0</td><td>v2</td><td>15.5692</td><td>12.0187</td><td>-0.009137</td><td>0.0291452</td><td>5.55585</td><td>0.0861324</td><td>15.5731</td><td>12.5123</td><td>-0.000620076</td><td>0.00299924</td><td>5.38695</td><td>0.0893994</td><td>14.8731</td><td>11.6315</td><td>-0.0169273</td><td>0.0366591</td><td>5.45017</td><td>0.0698951</td><td>15.6444</td><td>11.7254</td><td>-0.000748302</td><td>0.00353526</td><td>5.55585</td><td>0.0778021</td><td>12.7342</td><td>14.2415</td><td>7794981376.0 .. 25328717824.0</td><td>7279218176.0 .. 24038508544.0</td></tr>\n",
       "<tr><td>19.4988</td><td>13.3941</td><td>-0.0634623</td><td>0.0803728</td><td>5.53764</td><td>0.103165</td><td>91</td><td>0</td><td>v1</td><td>18.8773</td><td>11.9666</td><td>-0.058396</td><td>0.0774409</td><td>5.69275</td><td>0.129235</td><td>16.3905</td><td>12.5511</td><td>-0.167439</td><td>0.0408123</td><td>5.53764</td><td>0.106361</td><td>20.3895</td><td>11.5183</td><td>-0.0408704</td><td>0.0943793</td><td>5.64329</td><td>0.0945187</td><td>21.5618</td><td>11.5932</td><td>-0.00577006</td><td>0.00813687</td><td>5.69275</td><td>0.119082</td><td>12.7342</td><td>14.2415</td><td>7794981376.0 .. 25328717824.0</td><td>7279218176.0 .. 24038508544.0</td></tr>\n",
       "<tr><td>17.4816</td><td>13.4667</td><td>-0.00148941</td><td>0.00169452</td><td>5.5386</td><td>0.0655124</td><td>91</td><td>0</td><td>v0</td><td>17.4199</td><td>12.0365</td><td>-0.00046291</td><td>0.000525119</td><td>5.70243</td><td>0.0809164</td><td>17.6987</td><td>12.5213</td><td>-0.019676</td><td>0.0129239</td><td>5.5386</td><td>0.0727035</td><td>17.8812</td><td>11.6088</td><td>-0.00314681</td><td>0.00136466</td><td>5.43369</td><td>0.0659247</td><td>17.103</td><td>11.7548</td><td>-0.00131203</td><td>0.00228339</td><td>5.70243</td><td>0.0771571</td><td>12.7342</td><td>14.2415</td><td>7794981376.0 .. 25328717824.0</td><td>7279218176.0 .. 24038508544.0</td></tr>\n",
       "<tr><td>8.35114</td><td>14.371</td><td>-0.000231679</td><td>0.000353278</td><td>3.76913</td><td>0.156349</td><td>91</td><td>70250</td><td>v0</td><td>4.53555</td><td>13.381</td><td>-6.8082e-05</td><td>8.51091e-05</td><td>4.22041</td><td>0.119823</td><td>5.25201</td><td>13.7941</td><td>-0.00479618</td><td>0.002363</td><td>4.02414</td><td>0.132992</td><td>4.35746</td><td>12.9981</td><td>-0.000605105</td><td>0.000244437</td><td>3.98999</td><td>0.0989417</td><td>4.71643</td><td>13.0892</td><td>-0.000294769</td><td>0.000150397</td><td>4.1056</td><td>0.10153</td><td>12.1915</td><td>13.8559</td><td>7043611136.0 .. 19042433024.0</td><td>6673797120.0 .. 18302830592.0</td></tr>\n",
       "<tr><td>5.72622</td><td>15.4516</td><td>-0.00124161</td><td>0.00518067</td><td>3.08117</td><td>0.132677</td><td>91</td><td>70250</td><td>v1</td><td>6.164</td><td>14.0962</td><td>-0.000137111</td><td>0.000157175</td><td>3.1908</td><td>0.174494</td><td>5.74311</td><td>14.6235</td><td>-0.000986357</td><td>0.00377013</td><td>3.1336</td><td>0.147059</td><td>5.74302</td><td>13.7465</td><td>-0.000279723</td><td>0.000285364</td><td>3.07244</td><td>0.16041</td><td>6.05386</td><td>13.8397</td><td>-0.000305054</td><td>0.000210211</td><td>3.1908</td><td>0.167985</td><td>12.1915</td><td>13.8559</td><td>7043611136.0 .. 19042433024.0</td><td>6673797120.0 .. 18302830592.0</td></tr>\n",
       "<tr><td>10.927</td><td>14.9119</td><td>-0.000545817</td><td>0.00337444</td><td>4.07805</td><td>0.311707</td><td>91</td><td>70250</td><td>v2</td><td>11.3977</td><td>13.6259</td><td>-0.0134751</td><td>0.00928575</td><td>4.20955</td><td>0.318754</td><td>11.0887</td><td>14.1084</td><td>-0.00234484</td><td>0.000533303</td><td>4.3329</td><td>0.29462</td><td>10.7468</td><td>13.2604</td><td>-0.00740034</td><td>0.00588496</td><td>4.09623</td><td>0.297498</td><td>10.7628</td><td>13.4022</td><td>-0.0465935</td><td>0.0166154</td><td>4.26038</td><td>0.337333</td><td>12.1915</td><td>13.8559</td><td>7043611136.0 .. 19042433024.0</td><td>6673797120.0 .. 18302830592.0</td></tr>\n",
       "<tr><td>7.91157</td><td>14.4359</td><td>-0.00102789</td><td>0.000354864</td><td>3.83602</td><td>0.163602</td><td>91</td><td>70250</td><td>v3</td><td>3.74139</td><td>13.5004</td><td>-0.000171076</td><td>0.000879333</td><td>4.31121</td><td>0.146037</td><td>4.51638</td><td>13.892</td><td>-0.00121281</td><td>0.000205462</td><td>4.22041</td><td>0.15837</td><td>3.91238</td><td>13.0708</td><td>-0.000235931</td><td>0.000220311</td><td>4.19559</td><td>0.114799</td><td>4.23096</td><td>13.1591</td><td>-0.000145081</td><td>0.00012245</td><td>4.19559</td><td>0.124879</td><td>12.1915</td><td>13.8559</td><td>7043611136.0 .. 19042433024.0</td><td>6673797120.0 .. 18302830592.0</td></tr>\n",
       "<tr><td>7.45598</td><td>14.7677</td><td>-0.00578747</td><td>0.00685728</td><td>4.32941</td><td>0.2039</td><td>91</td><td>101482</td><td>v0</td><td>4.55396</td><td>13.6359</td><td>-9.57631e-05</td><td>0.000127331</td><td>4.69846</td><td>0.15264</td><td>4.84716</td><td>14.11</td><td>-0.000610095</td><td>0.00267659</td><td>4.69846</td><td>0.17248</td><td>4.13891</td><td>13.2776</td><td>-0.000663573</td><td>0.00141235</td><td>4.56045</td><td>0.124105</td><td>4.63067</td><td>13.3358</td><td>-0.00737446</td><td>0.00284665</td><td>4.58762</td><td>0.133888</td><td>12.195</td><td>13.7078</td><td>3609828352.0 .. 9767180288.0</td><td>3424485376.0 .. 9359472640.0</td></tr>\n",
       "<tr><td>9.88019</td><td>14.5773</td><td>-0.000567513</td><td>0.00206406</td><td>4.43971</td><td>0.172794</td><td>91</td><td>101482</td><td>v1</td><td>4.1264</td><td>13.633</td><td>-0.000899041</td><td>0.000195064</td><td>4.69846</td><td>0.125887</td><td>7.23143</td><td>13.8319</td><td>-0.00874284</td><td>0.00315115</td><td>4.62065</td><td>0.131072</td><td>4.76644</td><td>13.1294</td><td>-0.000356725</td><td>0.000275218</td><td>4.4762</td><td>0.0951914</td><td>4.89557</td><td>13.2385</td><td>-0.0055052</td><td>0.00162382</td><td>4.69846</td><td>0.10878</td><td>12.195</td><td>13.7078</td><td>3609828352.0 .. 9767180288.0</td><td>3424485376.0 .. 9359472640.0</td></tr>\n",
       "<tr><td>...</td><td>...</td><td>...</td><td>...</td><td>...</td><td>...</td><td>...</td><td>...</td><td>...</td><td>...</td><td>...</td><td>...</td><td>...</td><td>...</td><td>...</td><td>...</td><td>...</td><td>...</td><td>...</td><td>...</td><td>...</td><td>...</td><td>...</td><td>...</td><td>...</td><td>...</td><td>...</td><td>...</td><td>...</td><td>...</td><td>...</td><td>...</td><td>...</td><td>...</td><td>...</td><td>...</td><td>...</td></tr>\n",
       "<tr><td>0.91295</td><td>22.1857</td><td>-0.0423473</td><td>0.0439116</td><td>4.47043</td><td>0.0261462</td><td>91</td><td>825528</td><td>v2</td><td>0.933297</td><td>20.9054</td><td>-0.0232442</td><td>0.0224256</td><td>4.55111</td><td>-0.0216103</td><td>0.84155</td><td>21.4186</td><td>-0.0245802</td><td>0.0260637</td><td>3.76603</td><td>0.0020639</td><td>0.758288</td><td>20.7008</td><td>-0.057411</td><td>0.0539367</td><td>4.94775</td><td>-0.0455592</td><td>0.679677</td><td>20.8972</td><td>-0.032143</td><td>0.0338413</td><td>3.65513</td><td>-0.00433129</td><td>9.02099</td><td>10.1809</td><td>0.0 .. 0.0</td><td>0.0 .. 0.0</td></tr>\n",
       "<tr><td>1.00196</td><td>22.221</td><td>-0.0344919</td><td>0.0357427</td><td>2.36996</td><td>-0.00121299</td><td>91</td><td>825528</td><td>v1</td><td>1.04726</td><td>20.8466</td><td>-0.0197812</td><td>0.0179771</td><td>3.95106</td><td>0.0323573</td><td>0.899873</td><td>21.3903</td><td>-0.0202977</td><td>0.0196859</td><td>2.95495</td><td>0.0308911</td><td>0.694706</td><td>20.8118</td><td>-0.0411337</td><td>0.0356772</td><td>2.16472</td><td>-0.0745365</td><td>0.915327</td><td>20.694</td><td>-0.0285731</td><td>0.0299846</td><td>3.16914</td><td>0.000444756</td><td>9.02099</td><td>10.1809</td><td>0.0 .. 0.0</td><td>0.0 .. 0.0</td></tr>\n",
       "<tr><td>0.141977</td><td>21.5019</td><td>-0.00487112</td><td>0.00766606</td><td>3.22015</td><td>-0.0010787</td><td>91</td><td>838925</td><td>v3</td><td>0.0799674</td><td>20.232</td><td>-0.00534686</td><td>0.0062953</td><td>3.28379</td><td>0.00871082</td><td>0.102506</td><td>20.6697</td><td>-0.00501321</td><td>0.00519099</td><td>3.70155</td><td>-0.00591134</td><td>0.0286257</td><td>19.6764</td><td>-0.0697765</td><td>0.0767542</td><td>2.05622</td><td>0.943876</td><td>0.0789606</td><td>20.004</td><td>-0.00822305</td><td>0.00792982</td><td>3.4788</td><td>0.0079795</td><td>9.07637</td><td>9.98501</td><td>0.0 .. 0.0</td><td>0.0 .. 0.0</td></tr>\n",
       "<tr><td>0.846418</td><td>22.1167</td><td>-0.188024</td><td>0.0754645</td><td>3.83882</td><td>-0.0219327</td><td>91</td><td>838925</td><td>v2</td><td>0.333377</td><td>20.5587</td><td>-0.0259684</td><td>0.0263641</td><td>3.96812</td><td>0.0506515</td><td>0.52362</td><td>21.0941</td><td>-0.0186236</td><td>0.0158814</td><td>3.87972</td><td>0.00417726</td><td>0.395341</td><td>19.9689</td><td>-0.0303674</td><td>0.0380289</td><td>3.70995</td><td>0.0492556</td><td>0.640878</td><td>20.446</td><td>-0.0443394</td><td>0.0440837</td><td>3.70155</td><td>0.0683224</td><td>9.07637</td><td>9.98501</td><td>0.0 .. 0.0</td><td>0.0 .. 0.0</td></tr>\n",
       "<tr><td>0.175186</td><td>21.6116</td><td>-0.0196518</td><td>0.019908</td><td>5.72037</td><td>-0.0332833</td><td>91</td><td>838925</td><td>v1</td><td>0.0796042</td><td>20.3694</td><td>-0.00806278</td><td>0.00821274</td><td>4.33981</td><td>0.0122634</td><td>0.146585</td><td>20.7712</td><td>-0.0120358</td><td>0.0107901</td><td>4.12737</td><td>0.0203079</td><td>0.123433</td><td>20.0707</td><td>-0.0353152</td><td>0.0528401</td><td>2.82268</td><td>-0.0552874</td><td>0.120595</td><td>20.1364</td><td>-0.0148577</td><td>0.0149566</td><td>3.30154</td><td>0.0133915</td><td>9.07637</td><td>9.98501</td><td>0.0 .. 0.0</td><td>0.0 .. 0.0</td></tr>\n",
       "<tr><td>0.169071</td><td>21.7047</td><td>-0.0390834</td><td>0.0365337</td><td>3.89791</td><td>0.00235164</td><td>91</td><td>838925</td><td>v0</td><td>0.185004</td><td>20.4624</td><td>-0.0149696</td><td>0.01539</td><td>3.99621</td><td>0.0118418</td><td>0.206091</td><td>20.9259</td><td>-0.0134374</td><td>0.012796</td><td>3.87972</td><td>0.0121768</td><td>0.199241</td><td>20.3472</td><td>-0.0822199</td><td>0.0830662</td><td>3.31792</td><td>0.00113162</td><td>0.108523</td><td>20.2601</td><td>-0.0258043</td><td>0.0246963</td><td>4.2524</td><td>0.0328116</td><td>9.07637</td><td>9.98501</td><td>0.0 .. 0.0</td><td>0.0 .. 0.0</td></tr>\n",
       "<tr><td>0.0795323</td><td>21.8992</td><td>-0.0844847</td><td>0.0768187</td><td>2.84713</td><td>0.00976401</td><td>91</td><td>897490</td><td>v1</td><td>0.0823287</td><td>20.5853</td><td>-0.0231411</td><td>0.0295041</td><td>2.89703</td><td>0.0334773</td><td>0.0914149</td><td>21.0856</td><td>-0.0330534</td><td>0.0300033</td><td>3.00508</td><td>0.00992713</td><td>0.0686926</td><td>20.1266</td><td>-0.159537</td><td>0.115124</td><td>3.3181</td><td>0.0131924</td><td>0.0807742</td><td>20.3966</td><td>-0.0742881</td><td>0.0754348</td><td>2.74053</td><td>0.00832543</td><td>9.09552</td><td>6.13393</td><td>0.0 .. 0.0</td><td>0.0 .. 0.0</td></tr>\n",
       "<tr><td>0.0230517</td><td>21.1763</td><td>-0.143151</td><td>0.152952</td><td>3.45913</td><td>0.00582867</td><td>91</td><td>897490</td><td>v2</td><td>0.0221534</td><td>19.8051</td><td>-0.0876519</td><td>0.0954198</td><td>2.64489</td><td>0.0276607</td><td>0.0212999</td><td>20.222</td><td>-0.0812139</td><td>0.0708904</td><td>2.6113</td><td>0.0494726</td><td>0.0339614</td><td>19.6607</td><td>-0.264855</td><td>0.261057</td><td>2.32756</td><td>0.0107491</td><td>0.0182346</td><td>19.4347</td><td>-0.0909606</td><td>0.110863</td><td>2.90925</td><td>0.00899202</td><td>9.09552</td><td>6.13393</td><td>0.0 .. 0.0</td><td>0.0 .. 0.0</td></tr>\n",
       "<tr><td>0.0780564</td><td>21.728</td><td>-0.208742</td><td>0.11336</td><td>2.90377</td><td>-0.00842082</td><td>91</td><td>897490</td><td>v0</td><td>0.0235627</td><td>19.7503</td><td>-0.0780545</td><td>0.0946832</td><td>2.56946</td><td>0.0175609</td><td>0.0264015</td><td>20.269</td><td>-0.128538</td><td>0.131231</td><td>2.89522</td><td>0.0228614</td><td>0.0388215</td><td>19.6587</td><td>-0.373613</td><td>0.272909</td><td>5.47812</td><td>-0.00183435</td><td>0.0223311</td><td>19.4566</td><td>-0.0732007</td><td>0.0877959</td><td>2.6341</td><td>0.0172724</td><td>9.09552</td><td>6.13393</td><td>0.0 .. 0.0</td><td>0.0 .. 0.0</td></tr>\n",
       "<tr><td>0.0278874</td><td>21.2635</td><td>-0.127601</td><td>0.137843</td><td>3.49698</td><td>0.00227901</td><td>91</td><td>897490</td><td>v3</td><td>0.0183534</td><td>19.7249</td><td>-0.0770722</td><td>0.113167</td><td>2.46418</td><td>0.0143165</td><td>0.0324329</td><td>20.4785</td><td>-0.196576</td><td>0.171877</td><td>3.20398</td><td>0.0196855</td><td>0.0324374</td><td>19.6156</td><td>-0.383427</td><td>0.3479</td><td>2.17909</td><td>0.017489</td><td>0.0260611</td><td>19.6542</td><td>-0.0962977</td><td>0.108156</td><td>2.60524</td><td>0.00252291</td><td>9.09552</td><td>6.13393</td><td>0.0 .. 0.0</td><td>0.0 .. 0.0</td></tr>\n",
       "</table></div>"
      ],
      "text/plain": [
       "<Table length=7468>\n",
       "g_Sersic_Reff g_Sersic_mag ...       lum_above_mlim [4]     \n",
       "   float64      float64    ...            float64           \n",
       "------------- ------------ ... -----------------------------\n",
       "      19.3399      13.3532 ... 7279218176.0 .. 24038508544.0\n",
       "      17.8423      13.3935 ... 7279218176.0 .. 24038508544.0\n",
       "      19.4988      13.3941 ... 7279218176.0 .. 24038508544.0\n",
       "      17.4816      13.4667 ... 7279218176.0 .. 24038508544.0\n",
       "      8.35114       14.371 ... 6673797120.0 .. 18302830592.0\n",
       "      5.72622      15.4516 ... 6673797120.0 .. 18302830592.0\n",
       "       10.927      14.9119 ... 6673797120.0 .. 18302830592.0\n",
       "      7.91157      14.4359 ... 6673797120.0 .. 18302830592.0\n",
       "      7.45598      14.7677 ...  3424485376.0 .. 9359472640.0\n",
       "      9.88019      14.5773 ...  3424485376.0 .. 9359472640.0\n",
       "          ...          ... ...                           ...\n",
       "      0.91295      22.1857 ...                    0.0 .. 0.0\n",
       "      1.00196       22.221 ...                    0.0 .. 0.0\n",
       "     0.141977      21.5019 ...                    0.0 .. 0.0\n",
       "     0.846418      22.1167 ...                    0.0 .. 0.0\n",
       "     0.175186      21.6116 ...                    0.0 .. 0.0\n",
       "     0.169071      21.7047 ...                    0.0 .. 0.0\n",
       "    0.0795323      21.8992 ...                    0.0 .. 0.0\n",
       "    0.0230517      21.1763 ...                    0.0 .. 0.0\n",
       "    0.0780564       21.728 ...                    0.0 .. 0.0\n",
       "    0.0278874      21.2635 ...                    0.0 .. 0.0"
      ]
     },
     "execution_count": 13,
     "metadata": {},
     "output_type": "execute_result"
    }
   ],
   "source": [
    "subhalo"
   ]
  },
  {
   "cell_type": "code",
   "execution_count": 14,
   "metadata": {},
   "outputs": [
    {
     "name": "stderr",
     "output_type": "stream",
     "text": [
      "/home/chhahn/.conda/envs/uhod/lib/python3.7/site-packages/astropy/io/misc/hdf5.py:283: UserWarning: table path was not set via the path= argument; using default path __astropy_table__\n",
      "  \"using default path {}\".format(path))\n"
     ]
    }
   ],
   "source": [
    "subhalo.write(os.path.join(dat_dir, 'subhalos.central.snapshot%i.hdf5' % snapshot), overwrite=True)"
   ]
  },
  {
   "cell_type": "markdown",
   "metadata": {},
   "source": [
    "## select test subhalos\n",
    "We will select 125 subhalos based on `subhalo_id`. Since there are 4 angles per subhalo, this will provide a test set of 500. \n",
    "\n",
    "We'll also stick with subhalos with $\\log M_* > 9.5$ to mitigate complications with the stellar mass lower bound."
   ]
  },
  {
   "cell_type": "code",
   "execution_count": 15,
   "metadata": {},
   "outputs": [],
   "source": [
    "uid = np.random.choice(np.unique(subhalo['subhalo_id'][subhalo['SubhaloMassType_stars'] > 9.5]), replace=False, size=125)\n",
    "\n",
    "i_test = np.zeros(len(subhalo)).astype(bool)\n",
    "for _uid in uid:\n",
    "    i_test[subhalo['subhalo_id'] == _uid] = True"
   ]
  },
  {
   "cell_type": "code",
   "execution_count": 16,
   "metadata": {},
   "outputs": [
    {
     "name": "stdout",
     "output_type": "stream",
     "text": [
      "500 test subhalos\n"
     ]
    }
   ],
   "source": [
    "print('%s test subhalos' % np.sum(i_test))"
   ]
  },
  {
   "cell_type": "code",
   "execution_count": 17,
   "metadata": {},
   "outputs": [],
   "source": [
    "test_subhalos = subhalo[i_test]\n",
    "train_subhalos = subhalo[~i_test]\n",
    "\n",
    "test_subhalos.write(os.path.join(dat_dir, 'subhalos.central.snapshot%i.test.hdf5' % snapshot), \n",
    "                    overwrite=True) \n",
    "train_subhalos.write(os.path.join(dat_dir, 'subhalos.central.snapshot%i.train.hdf5' % snapshot),  \n",
    "                     overwrite=True) "
   ]
  },
  {
   "cell_type": "code",
   "execution_count": null,
   "metadata": {},
   "outputs": [],
   "source": []
  }
 ],
 "metadata": {
  "kernelspec": {
   "display_name": "uhod",
   "language": "python",
   "name": "uhod"
  },
  "language_info": {
   "codemirror_mode": {
    "name": "ipython",
    "version": 3
   },
   "file_extension": ".py",
   "mimetype": "text/x-python",
   "name": "python",
   "nbconvert_exporter": "python",
   "pygments_lexer": "ipython3",
   "version": "3.7.11"
  }
 },
 "nbformat": 4,
 "nbformat_minor": 4
}
