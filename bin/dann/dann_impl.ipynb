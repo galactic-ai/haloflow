{
 "cells": [
  {
   "cell_type": "markdown",
   "id": "ece31ab8",
   "metadata": {},
   "source": [
    "# Actual Implementation"
   ]
  },
  {
   "cell_type": "code",
   "execution_count": 1,
   "id": "fa05e35a",
   "metadata": {},
   "outputs": [],
   "source": [
    "from haloflow.dann.data_loader import SimulationDataset\n",
    "from haloflow.dann import model as M\n",
    "from haloflow.dann import train as T\n",
    "from haloflow.dann import evalutate as E\n",
    "from haloflow.dann import visualise as V\n",
    "\n",
    "from haloflow import config as C"
   ]
  },
  {
   "cell_type": "code",
   "execution_count": 2,
   "id": "34c68ded",
   "metadata": {},
   "outputs": [],
   "source": [
    "import torch"
   ]
  },
  {
   "cell_type": "code",
   "execution_count": 26,
   "id": "b91cf1a2",
   "metadata": {},
   "outputs": [],
   "source": [
    "# Configuration\n",
    "config = {\n",
    "    'sims': ['TNG50', 'TNG100', 'Eagle100', 'Simba100', 'TNG_ALL'],\n",
    "    'obs': 'mags',\n",
    "    'dat_dir': C.get_dat_dir(),\n",
    "    'input_dim': None,  # Will be inferred from data\n",
    "    'num_domains': 4,\n",
    "    'batch_size': 128,\n",
    "    'num_epochs': 100,\n",
    "    'lr': 0.001,\n",
    "    'alpha': 0.5,\n",
    "}"
   ]
  },
  {
   "cell_type": "code",
   "execution_count": 27,
   "id": "5fc0cda4",
   "metadata": {},
   "outputs": [],
   "source": [
    "dataset = SimulationDataset(config['sims'], config['obs'], config['dat_dir'])\n",
    "train_loader, test_loader = dataset.get_train_test_loaders(\n",
    "    train_sims=config['sims'][:-1],  # First 4 sims for training\n",
    "    test_sim=config['sims'][-1],      # Last sim (TNG_ALL) for testing\n",
    "    batch_size=config['batch_size']\n",
    ")"
   ]
  },
  {
   "cell_type": "code",
   "execution_count": 28,
   "id": "8a1c0109",
   "metadata": {},
   "outputs": [],
   "source": [
    "# Infer input dimension from data\n",
    "sample_X, _, _ = next(iter(train_loader))\n",
    "config['input_dim'] = sample_X.shape[1]"
   ]
  },
  {
   "cell_type": "code",
   "execution_count": 29,
   "id": "cd0d8406",
   "metadata": {},
   "outputs": [],
   "source": [
    "# Initialize model\n",
    "model = M.DANN(input_dim=config['input_dim'], \n",
    "               num_domains=config['num_domains'], \n",
    "               alpha=config['alpha']\n",
    "        )"
   ]
  },
  {
   "cell_type": "code",
   "execution_count": null,
   "id": "484a59a2",
   "metadata": {
    "scrolled": true
   },
   "outputs": [],
   "source": [
    "# Train\n",
    "T.train_dann(\n",
    "    model, \n",
    "    train_loader, \n",
    "    test_loader, \n",
    "    num_epochs=config['num_epochs'], \n",
    "    lr=config['lr'], \n",
    "    device='cuda' if torch.cuda.is_available() else 'cpu'\n",
    ")"
   ]
  },
  {
   "cell_type": "code",
   "execution_count": 31,
   "id": "3725b6a6",
   "metadata": {},
   "outputs": [
    {
     "name": "stdout",
     "output_type": "stream",
     "text": [
      "\n",
      "Evaluating Regression Performance:\n",
      "MSE: 0.0955, RMSE: 0.3090, R²: 0.7535\n",
      "\n",
      "Evaluating Domain Accuracy:\n",
      "Domain Accuracy: 0.3846\n"
     ]
    },
    {
     "data": {
      "text/plain": [
       "0.38458414554905784"
      ]
     },
     "execution_count": 31,
     "metadata": {},
     "output_type": "execute_result"
    }
   ],
   "source": [
    "# Evaluate\n",
    "print(\"\\nEvaluating Regression Performance:\")\n",
    "E.evaluate_regression(model, test_loader, 'cpu')\n",
    "\n",
    "print(\"\\nEvaluating Domain Accuracy:\")\n",
    "E.domain_accuracy(model, train_loader, 'cpu')"
   ]
  },
  {
   "cell_type": "code",
   "execution_count": null,
   "id": "57b0beb1",
   "metadata": {},
   "outputs": [],
   "source": []
  }
 ],
 "metadata": {
  "kernelspec": {
   "display_name": "Python (haloflow_venv)",
   "language": "python",
   "name": "myenv"
  },
  "language_info": {
   "codemirror_mode": {
    "name": "ipython",
    "version": 3
   },
   "file_extension": ".py",
   "mimetype": "text/x-python",
   "name": "python",
   "nbconvert_exporter": "python",
   "pygments_lexer": "ipython3",
   "version": "3.9.12"
  }
 },
 "nbformat": 4,
 "nbformat_minor": 5
}
