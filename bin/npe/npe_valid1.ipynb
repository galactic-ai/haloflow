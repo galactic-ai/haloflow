{
 "cells": [
  {
   "cell_type": "code",
   "execution_count": null,
   "id": "dd8380c6",
   "metadata": {},
   "outputs": [],
   "source": [
    "import os\n",
    "import numpy as np\n",
    "from tqdm.notebook import tqdm, trange\n",
    "\n",
    "import torch\n",
    "from haloflow import data as D\n",
    "from haloflow import util as U"
   ]
  },
  {
   "cell_type": "code",
   "execution_count": null,
   "id": "74f2b920",
   "metadata": {},
   "outputs": [],
   "source": [
    "import corner as DFM\n",
    "# --- plotting ---\n",
    "import matplotlib as mpl\n",
    "import matplotlib.pyplot as plt\n",
    "mpl.rcParams['text.usetex'] = True\n",
    "mpl.rcParams['font.family'] = 'serif'\n",
    "mpl.rcParams['axes.linewidth'] = 1.5\n",
    "mpl.rcParams['axes.xmargin'] = 1\n",
    "mpl.rcParams['xtick.labelsize'] = 'x-large'\n",
    "mpl.rcParams['xtick.major.size'] = 5\n",
    "mpl.rcParams['xtick.major.width'] = 1.5\n",
    "mpl.rcParams['ytick.labelsize'] = 'x-large'\n",
    "mpl.rcParams['ytick.major.size'] = 5\n",
    "mpl.rcParams['ytick.major.width'] = 1.5\n",
    "mpl.rcParams['legend.frameon'] = False"
   ]
  },
  {
   "cell_type": "code",
   "execution_count": null,
   "id": "12224dfb",
   "metadata": {},
   "outputs": [],
   "source": [
    "if torch.cuda.is_available(): device = 'cuda:0'\n",
    "else: device = 'cpu'"
   ]
  },
  {
   "cell_type": "markdown",
   "id": "518b2872",
   "metadata": {},
   "source": [
    "## read $q_\\phi(Y\\,|\\,X)$"
   ]
  },
  {
   "cell_type": "code",
   "execution_count": null,
   "id": "9747c455",
   "metadata": {},
   "outputs": [],
   "source": [
    "fig = plt.figure(figsize=(12,18))\n",
    "\n",
    "for i_sim, sim in enumerate(['Simba100', 'Eagle100', 'TNG50', 'TNG100', 'TNG_ALL']): \n",
    "    # plot \n",
    "    sub0 = fig.add_subplot(5,2,2*i_sim+1)\n",
    "    sub0.plot([9.5, 12.], [9.5, 12.], c='k', ls='--')\n",
    "    \n",
    "    sub1 = fig.add_subplot(5,2,2*i_sim+2)\n",
    "    sub1.plot([9.5, 14.], [9.5, 14.], c='k', ls='--')\n",
    "\n",
    "    # test-data\n",
    "    Y_test, _ = D.hf2_centrals('test', 'mags_morph', sim=sim)\n",
    "\n",
    "    igals = np.random.choice(np.arange(Y_test.shape[0]), size=100, replace=False)\n",
    "    y_true = Y_test[igals]\n",
    "    \n",
    "    for i_obs, obs in enumerate(['mags', 'mags_morph']): \n",
    "        print(sim, obs)\n",
    "        # read q_phis\n",
    "        qphis = U.read_best_ndes('h2.v1.%s.%s' % (sim, obs), n_ensemble=5, device=device, \n",
    "                             dat_dir='/xdisk/chhahn/chhahn/haloflow/hf2/npe', verbose=True)\n",
    "        Y_test, X_test = D.hf2_centrals('test', obs, sim=sim)        \n",
    "\n",
    "        # sample NDEs\n",
    "        n_sample = 1000\n",
    "        y_nde = [] \n",
    "        for i in igals: \n",
    "            y_samp = []\n",
    "            for qphi in qphis: \n",
    "                _samp = qphi.sample((int(n_sample/len(qphis)),),\n",
    "                                       x=torch.tensor(X_test[i], dtype=torch.float32).to(device), \n",
    "                                       show_progress_bars=False)\n",
    "                y_samp.append(_samp.detach().cpu().numpy())\n",
    "            y_nde.append(np.concatenate(np.array(y_samp), axis=0)) \n",
    "        y_nde = np.array(y_nde)\n",
    "        y_nde_q0, y_nde_q1, y_nde_q2 = np.quantile(y_nde, (0.16, 0.5, 0.84), axis=1)\n",
    "    \n",
    "        # plot comparison\n",
    "        sub0.text(0.05, 0.95, sim.upper(), transform=sub0.transAxes, ha='left', va='top', fontsize=20)\n",
    "        sub0.errorbar(y_true[:,0], y_nde_q1[:,0], \n",
    "                     yerr=[y_nde_q1[:,0] - y_nde_q0[:,0], y_nde_q2[:,0] - y_nde_q1[:,0]], fmt='.C%i' % i_obs)\n",
    "        sub1.errorbar(y_true[:,1]+0.05, y_nde_q1[:,1], \n",
    "                     yerr=[y_nde_q1[:,1] - y_nde_q0[:,1], y_nde_q2[:,1] - y_nde_q1[:,1]], fmt='.C%i' % i_obs)\n",
    "\n",
    "    sub0.set_ylabel(r'inferred $\\log M_*$', fontsize=25)\n",
    "    sub0.set_xlim(9.5, 12.)\n",
    "    sub0.set_ylim(9.5, 12.)\n",
    "    \n",
    "    sub1.set_ylabel(r'inferred $\\log M_h$', fontsize=25)\n",
    "    sub1.set_xlim(10., 14.)\n",
    "    sub1.set_ylim(10., 14.)\n",
    "    \n",
    "sub0.set_xlabel(r'true $\\log M_*$', fontsize=25)\n",
    "\n",
    "sub1.set_xlabel(r'true $\\log M_h$', fontsize=25)"
   ]
  },
  {
   "cell_type": "code",
   "execution_count": null,
   "id": "1b8107e2-0d4c-4421-8b63-844667e34233",
   "metadata": {},
   "outputs": [],
   "source": []
  }
 ],
 "metadata": {
  "kernelspec": {
   "display_name": "Python (haloflow_venv)",
   "language": "python",
   "name": "myenv"
  },
  "language_info": {
   "codemirror_mode": {
    "name": "ipython",
    "version": 3
   },
   "file_extension": ".py",
   "mimetype": "text/x-python",
   "name": "python",
   "nbconvert_exporter": "python",
   "pygments_lexer": "ipython3",
   "version": "3.9.12"
  }
 },
 "nbformat": 4,
 "nbformat_minor": 5
}
