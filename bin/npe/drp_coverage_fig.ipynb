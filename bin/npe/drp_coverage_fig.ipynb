{
 "cells": [
  {
   "cell_type": "code",
   "execution_count": 14,
   "metadata": {},
   "outputs": [],
   "source": [
    "import pickle\n",
    "\n",
    "from haloflow.npe import plotting\n",
    "from haloflow.npe import valid as V"
   ]
  },
  {
   "cell_type": "code",
   "execution_count": 15,
   "metadata": {},
   "outputs": [],
   "source": [
    "import torch\n",
    "cuda = torch.cuda.is_available()\n",
    "device = (\"cuda:0\" if cuda else \"cpu\")"
   ]
  },
  {
   "cell_type": "code",
   "execution_count": 20,
   "metadata": {},
   "outputs": [],
   "source": [
    "sims = ['TNG50', 'TNG100', 'TNG_ALL', 'Eagle100', 'Simba100']\n",
    "obs = 'mags'\n",
    "version = 1\n",
    "all_alpha = []\n",
    "all_ecp = []\n",
    "all_labels = []"
   ]
  },
  {
   "cell_type": "code",
   "execution_count": null,
   "metadata": {},
   "outputs": [
    {
     "name": "stdout",
     "output_type": "stream",
     "text": [
      "998 models trained\n",
      "[687, 714, 589, 844, 199]\n"
     ]
    }
   ],
   "source": [
    "for sim in sims:\n",
    "    ranks, alpha, ecp, y_nde = V.validate_npe(train_obs=obs, train_sim=sim, \n",
    "                                   test_obs=obs, test_sim=sim, \n",
    "                                   version=version, device=device)\n",
    "    all_alpha.append(alpha)\n",
    "    all_ecp.append(ecp)"
   ]
  },
  {
   "cell_type": "code",
   "execution_count": null,
   "metadata": {},
   "outputs": [],
   "source": [
    "# save alpha and ecp\n",
    "with open(f'alpha_{obs}_{version}.pkl', 'wb') as f:\n",
    "    pickle.dump(all_alpha, f)\n",
    "\n",
    "with open(f'ecp_{obs}_{version}.pkl', 'wb') as f:\n",
    "    pickle.dump(all_ecp, f)"
   ]
  },
  {
   "cell_type": "code",
   "execution_count": null,
   "metadata": {},
   "outputs": [],
   "source": [
    "!ls"
   ]
  },
  {
   "cell_type": "code",
   "execution_count": null,
   "metadata": {},
   "outputs": [],
   "source": [
    "with open('alpha_mags_1.pkl', 'rb') as f:\n",
    "\talphas_mags = pickle.load(f)\n",
    "\n",
    "with open('ecp_mags_1.pkl', 'rb') as f:\n",
    "\tecps_mags = pickle.load(f)\n",
    "\n",
    "with open('alpha_mags_morph_1.pkl', 'rb') as f:\n",
    "\talphas_morph = pickle.load(f)\n",
    "\n",
    "with open('ecp_mags_morph_1.pkl', 'rb') as f:\n",
    "\tecps_morph = pickle.load(f)\n",
    "    \n",
    "with open('alpha_mags_morph_extra_1.pkl', 'rb') as f:\n",
    "\talphas_morph_extra = pickle.load(f)\n",
    "\n",
    "with open('ecp_mags_morph_extra_1.pkl', 'rb') as f:\n",
    "\tecps_morph_extra = pickle.load(f)"
   ]
  },
  {
   "cell_type": "code",
   "execution_count": null,
   "metadata": {},
   "outputs": [],
   "source": [
    "labels = ['TNG 50', 'TNG 100', 'TNG ALL', 'Eagle 100', 'Simba 100']"
   ]
  },
  {
   "cell_type": "code",
   "execution_count": null,
   "metadata": {},
   "outputs": [],
   "source": [
    "fig, (ax1, ax2, ax3) = plt.subplots(1, 3, figsize=(16, 6), dpi=150)\n",
    "\n",
    "# plot the coverage on the new axes\n",
    "plotting.plot_coverage(alphas_mags, ecps_mags, labels, ax=ax2)\n",
    "plotting.plot_coverage(alphas_morph, ecps_morph, [None]*len(labels), ax=ax3)\n",
    "plotting.plot_coverage(alphas_morph_extra, ecps_morph_extra, [None]*len(labels), ax=ax3)\n",
    "\n",
    "ax1.set_title(r'$X_{\\rm{mags}}$')\n",
    "ax2.set_title(r'$X_{\\rm{mags}}, X_{\\rm{morph}}$')\n",
    "ax3.set_title(r'$X_{\\rm{mags}}, X_{\\rm{morph}}, X_{\\rm{extra}}$')"
   ]
  }
 ],
 "metadata": {
  "kernelspec": {
   "display_name": "Python (haloflow_venv)",
   "language": "python",
   "name": "myenv"
  },
  "language_info": {
   "codemirror_mode": {
    "name": "ipython",
    "version": 3
   },
   "file_extension": ".py",
   "mimetype": "text/x-python",
   "name": "python",
   "nbconvert_exporter": "python",
   "pygments_lexer": "ipython3",
   "version": "3.9.12"
  }
 },
 "nbformat": 4,
 "nbformat_minor": 2
}
