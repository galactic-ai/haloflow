{
 "cells": [
  {
   "cell_type": "code",
   "execution_count": null,
   "id": "637e6f6d",
   "metadata": {},
   "outputs": [],
   "source": [
    "import matplotlib.pyplot as plt"
   ]
  },
  {
   "cell_type": "code",
   "execution_count": null,
   "id": "8fc38d15",
   "metadata": {},
   "outputs": [],
   "source": [
    "from haloflow.npe import plotting as P"
   ]
  },
  {
   "cell_type": "code",
   "execution_count": null,
   "id": "7b7a9654",
   "metadata": {},
   "outputs": [],
   "source": [
    "sims = ['TNG50', 'TNG100', 'TNG_ALL', 'Eagle100', 'Simba100']\n",
    "\n",
    "obs = 'mags'"
   ]
  },
  {
   "cell_type": "code",
   "execution_count": null,
   "id": "47ad7fff",
   "metadata": {
    "scrolled": true
   },
   "outputs": [],
   "source": [
    "fig, ax = plt.subplots(len(sims), len(sims), figsize=(20, 20))\n",
    "\n",
    "for i, train_sim in enumerate(sims):\n",
    "    for j, test_sim in enumerate(sims):\n",
    "        ax[j, i], _, _ = P.plot_true_pred(ax[j, i], obs, train_sim, obs, test_sim, 'cpu', fmt='.b')\n",
    "        ax[j, i], _, _ = P.plot_true_pred(ax[j, i], obs, train_sim, obs, test_sim, 'cpu', fmt='.r', use_weights=True)\n",
    "        ax[j, i].legend()\n",
    "        # remove x-axis labels  \n",
    "        if j != len(sims)-1:\n",
    "            ax[j, i].set_xticklabels([])\n",
    "            ax[j, i].set_xlabel('')\n",
    "        # remove y-axis labels\n",
    "        if i != 0:\n",
    "            ax[j, i].set_yticklabels([])\n",
    "            ax[j, i].set_ylabel('')\n",
    "\n",
    "plt.tight_layout()\n",
    "plt.savefig('halo_scatter_plot.png', dpi=150)\n",
    "plt.show()"
   ]
  },
  {
   "cell_type": "code",
   "execution_count": null,
   "id": "427b600e",
   "metadata": {
    "scrolled": true
   },
   "outputs": [],
   "source": [
    "fig, ax = plt.subplots(len(sims), len(sims), figsize=(20, 20))\n",
    "\n",
    "for i, train_sim in enumerate(sims):\n",
    "    for j, test_sim in enumerate(sims):\n",
    "        ax[j, i], _, _ = P.plot_true_pred(ax[j, i], obs, train_sim, obs, test_sim, 'cpu', fmt='.b', mass='stellar')\n",
    "        ax[j, i], _, _ = P.plot_true_pred(ax[j, i], obs, train_sim, obs, test_sim, 'cpu', fmt='.r', use_weights=True, mass='stellar')\n",
    "        ax[j, i].legend()\n",
    "        # remove x-axis labels  \n",
    "        if j != len(sims)-1:\n",
    "            ax[j, i].set_xticklabels([])\n",
    "            ax[j, i].set_xlabel('')\n",
    "        # remove y-axis labels\n",
    "        if i != 0:\n",
    "            ax[j, i].set_yticklabels([])\n",
    "            ax[j, i].set_ylabel('')\n",
    "#         break\n",
    "#     break\n",
    "\n",
    "plt.show()\n",
    "plt.tight_layout()\n",
    "plt.savefig('stellar_scatter_plot.png', dpi=150)"
   ]
  },
  {
   "cell_type": "code",
   "execution_count": null,
   "id": "51c6a9e6",
   "metadata": {},
   "outputs": [],
   "source": []
  }
 ],
 "metadata": {
  "kernelspec": {
   "display_name": "Python (haloflow_venv)",
   "language": "python",
   "name": "myenv"
  },
  "language_info": {
   "codemirror_mode": {
    "name": "ipython",
    "version": 3
   },
   "file_extension": ".py",
   "mimetype": "text/x-python",
   "name": "python",
   "nbconvert_exporter": "python",
   "pygments_lexer": "ipython3",
   "version": "3.9.12"
  }
 },
 "nbformat": 4,
 "nbformat_minor": 5
}
