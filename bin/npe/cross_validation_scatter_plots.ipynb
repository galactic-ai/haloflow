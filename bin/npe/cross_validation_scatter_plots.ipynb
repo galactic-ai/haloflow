{
 "cells": [
  {
   "cell_type": "code",
   "execution_count": 1,
   "id": "637e6f6d",
   "metadata": {},
   "outputs": [],
   "source": [
    "import matplotlib.pyplot as plt"
   ]
  },
  {
   "cell_type": "code",
   "execution_count": 2,
   "id": "8fc38d15",
   "metadata": {},
   "outputs": [],
   "source": [
    "from haloflow.npe import plotting as P"
   ]
  },
  {
   "cell_type": "code",
   "execution_count": 3,
   "id": "7b7a9654",
   "metadata": {},
   "outputs": [],
   "source": [
    "sims = ['TNG50', 'TNG100', 'TNG_ALL', 'Eagle100', 'Simba100']\n",
    "\n",
    "obs = 'mags_morph_extra'"
   ]
  },
  {
   "cell_type": "code",
   "execution_count": null,
   "id": "47ad7fff",
   "metadata": {
    "scrolled": true
   },
   "outputs": [
    {
     "name": "stdout",
     "output_type": "stream",
     "text": [
      "1039 models trained\n",
      "[1025, 410, 890, 94, 319]\n"
     ]
    },
    {
     "name": "stderr",
     "output_type": "stream",
     "text": [
      "/groups/chhahn/haloflow/src/haloflow/util.py:42: FutureWarning: You are using `torch.load` with `weights_only=False` (the current default value), which uses the default pickle module implicitly. It is possible to construct malicious pickle data which will execute arbitrary code during unpickling (See https://github.com/pytorch/pytorch/blob/main/SECURITY.md#untrusted-models for more details). In a future release, the default value for `weights_only` will be flipped to `True`. This limits the functions that could be executed during unpickling. Arbitrary objects will no longer be allowed to be loaded via this mode unless they are explicitly allowlisted by the user via `torch.serialization.add_safe_globals`. We recommend you start setting `weights_only=True` for any use case where you don't have full control of the loaded file. Please open an issue on GitHub for any issues related to this experimental feature.\n",
      "  qphi = torch.load(fqphi, map_location=device)\n",
      "/groups/chhahn/haloflow/src/haloflow/util.py:42: FutureWarning: You are using `torch.load` with `weights_only=False` (the current default value), which uses the default pickle module implicitly. It is possible to construct malicious pickle data which will execute arbitrary code during unpickling (See https://github.com/pytorch/pytorch/blob/main/SECURITY.md#untrusted-models for more details). In a future release, the default value for `weights_only` will be flipped to `True`. This limits the functions that could be executed during unpickling. Arbitrary objects will no longer be allowed to be loaded via this mode unless they are explicitly allowlisted by the user via `torch.serialization.add_safe_globals`. We recommend you start setting `weights_only=True` for any use case where you don't have full control of the loaded file. Please open an issue on GitHub for any issues related to this experimental feature.\n",
      "  qphi = torch.load(fqphi, map_location=device)\n",
      "/groups/chhahn/haloflow/src/haloflow/corr.py:36: UserWarning: some M* samples are below or above the M* limit\n",
      "  warnings.warn('some M* samples are below or above the M* limit')\n",
      "/groups/chhahn/haloflow/src/haloflow/corr.py:38: UserWarning: some M* samples are below or above the Mh limit\n",
      "  warnings.warn('some M* samples are below or above the Mh limit')\n"
     ]
    },
    {
     "name": "stdout",
     "output_type": "stream",
     "text": [
      "1039 models trained\n",
      "[1025, 410, 890, 94, 319]\n"
     ]
    },
    {
     "name": "stderr",
     "output_type": "stream",
     "text": [
      "/groups/chhahn/haloflow/src/haloflow/util.py:42: FutureWarning: You are using `torch.load` with `weights_only=False` (the current default value), which uses the default pickle module implicitly. It is possible to construct malicious pickle data which will execute arbitrary code during unpickling (See https://github.com/pytorch/pytorch/blob/main/SECURITY.md#untrusted-models for more details). In a future release, the default value for `weights_only` will be flipped to `True`. This limits the functions that could be executed during unpickling. Arbitrary objects will no longer be allowed to be loaded via this mode unless they are explicitly allowlisted by the user via `torch.serialization.add_safe_globals`. We recommend you start setting `weights_only=True` for any use case where you don't have full control of the loaded file. Please open an issue on GitHub for any issues related to this experimental feature.\n",
      "  qphi = torch.load(fqphi, map_location=device)\n",
      "/groups/chhahn/haloflow/src/haloflow/corr.py:36: UserWarning: some M* samples are below or above the M* limit\n",
      "  warnings.warn('some M* samples are below or above the M* limit')\n",
      "/groups/chhahn/haloflow/src/haloflow/corr.py:38: UserWarning: some M* samples are below or above the Mh limit\n",
      "  warnings.warn('some M* samples are below or above the Mh limit')\n"
     ]
    },
    {
     "name": "stdout",
     "output_type": "stream",
     "text": [
      "1039 models trained\n",
      "[1025, 410, 890, 94, 319]\n"
     ]
    },
    {
     "name": "stderr",
     "output_type": "stream",
     "text": [
      "/groups/chhahn/haloflow/src/haloflow/util.py:42: FutureWarning: You are using `torch.load` with `weights_only=False` (the current default value), which uses the default pickle module implicitly. It is possible to construct malicious pickle data which will execute arbitrary code during unpickling (See https://github.com/pytorch/pytorch/blob/main/SECURITY.md#untrusted-models for more details). In a future release, the default value for `weights_only` will be flipped to `True`. This limits the functions that could be executed during unpickling. Arbitrary objects will no longer be allowed to be loaded via this mode unless they are explicitly allowlisted by the user via `torch.serialization.add_safe_globals`. We recommend you start setting `weights_only=True` for any use case where you don't have full control of the loaded file. Please open an issue on GitHub for any issues related to this experimental feature.\n",
      "  qphi = torch.load(fqphi, map_location=device)\n",
      "/groups/chhahn/haloflow/src/haloflow/corr.py:36: UserWarning: some M* samples are below or above the M* limit\n",
      "  warnings.warn('some M* samples are below or above the M* limit')\n",
      "/groups/chhahn/haloflow/src/haloflow/corr.py:38: UserWarning: some M* samples are below or above the Mh limit\n",
      "  warnings.warn('some M* samples are below or above the Mh limit')\n"
     ]
    },
    {
     "name": "stdout",
     "output_type": "stream",
     "text": [
      "1039 models trained\n",
      "[1025, 410, 890, 94, 319]\n"
     ]
    },
    {
     "name": "stderr",
     "output_type": "stream",
     "text": [
      "/groups/chhahn/haloflow/src/haloflow/util.py:42: FutureWarning: You are using `torch.load` with `weights_only=False` (the current default value), which uses the default pickle module implicitly. It is possible to construct malicious pickle data which will execute arbitrary code during unpickling (See https://github.com/pytorch/pytorch/blob/main/SECURITY.md#untrusted-models for more details). In a future release, the default value for `weights_only` will be flipped to `True`. This limits the functions that could be executed during unpickling. Arbitrary objects will no longer be allowed to be loaded via this mode unless they are explicitly allowlisted by the user via `torch.serialization.add_safe_globals`. We recommend you start setting `weights_only=True` for any use case where you don't have full control of the loaded file. Please open an issue on GitHub for any issues related to this experimental feature.\n",
      "  qphi = torch.load(fqphi, map_location=device)\n",
      "/groups/chhahn/haloflow/src/haloflow/corr.py:36: UserWarning: some M* samples are below or above the M* limit\n",
      "  warnings.warn('some M* samples are below or above the M* limit')\n",
      "/groups/chhahn/haloflow/src/haloflow/corr.py:38: UserWarning: some M* samples are below or above the Mh limit\n",
      "  warnings.warn('some M* samples are below or above the Mh limit')\n"
     ]
    },
    {
     "name": "stdout",
     "output_type": "stream",
     "text": [
      "1039 models trained\n",
      "[1025, 410, 890, 94, 319]\n"
     ]
    },
    {
     "name": "stderr",
     "output_type": "stream",
     "text": [
      "/groups/chhahn/haloflow/src/haloflow/util.py:42: FutureWarning: You are using `torch.load` with `weights_only=False` (the current default value), which uses the default pickle module implicitly. It is possible to construct malicious pickle data which will execute arbitrary code during unpickling (See https://github.com/pytorch/pytorch/blob/main/SECURITY.md#untrusted-models for more details). In a future release, the default value for `weights_only` will be flipped to `True`. This limits the functions that could be executed during unpickling. Arbitrary objects will no longer be allowed to be loaded via this mode unless they are explicitly allowlisted by the user via `torch.serialization.add_safe_globals`. We recommend you start setting `weights_only=True` for any use case where you don't have full control of the loaded file. Please open an issue on GitHub for any issues related to this experimental feature.\n",
      "  qphi = torch.load(fqphi, map_location=device)\n",
      "/groups/chhahn/haloflow/src/haloflow/corr.py:38: UserWarning: some M* samples are below or above the Mh limit\n",
      "  warnings.warn('some M* samples are below or above the Mh limit')\n",
      "/groups/chhahn/haloflow/src/haloflow/corr.py:36: UserWarning: some M* samples are below or above the M* limit\n",
      "  warnings.warn('some M* samples are below or above the M* limit')\n"
     ]
    },
    {
     "name": "stdout",
     "output_type": "stream",
     "text": [
      "437 models trained\n",
      "[178, 116, 360, 358, 192]\n",
      "437 models trained\n",
      "[178, 116, 360, 358, 192]\n"
     ]
    },
    {
     "name": "stderr",
     "output_type": "stream",
     "text": [
      "/groups/chhahn/haloflow/src/haloflow/util.py:42: FutureWarning: You are using `torch.load` with `weights_only=False` (the current default value), which uses the default pickle module implicitly. It is possible to construct malicious pickle data which will execute arbitrary code during unpickling (See https://github.com/pytorch/pytorch/blob/main/SECURITY.md#untrusted-models for more details). In a future release, the default value for `weights_only` will be flipped to `True`. This limits the functions that could be executed during unpickling. Arbitrary objects will no longer be allowed to be loaded via this mode unless they are explicitly allowlisted by the user via `torch.serialization.add_safe_globals`. We recommend you start setting `weights_only=True` for any use case where you don't have full control of the loaded file. Please open an issue on GitHub for any issues related to this experimental feature.\n",
      "  qphi = torch.load(fqphi, map_location=device)\n",
      "/groups/chhahn/haloflow/src/haloflow/corr.py:36: UserWarning: some M* samples are below or above the M* limit\n",
      "  warnings.warn('some M* samples are below or above the M* limit')\n",
      "/groups/chhahn/haloflow/src/haloflow/corr.py:38: UserWarning: some M* samples are below or above the Mh limit\n",
      "  warnings.warn('some M* samples are below or above the Mh limit')\n"
     ]
    },
    {
     "name": "stdout",
     "output_type": "stream",
     "text": [
      "437 models trained\n",
      "[178, 116, 360, 358, 192]\n"
     ]
    },
    {
     "name": "stderr",
     "output_type": "stream",
     "text": [
      "/groups/chhahn/haloflow/src/haloflow/util.py:42: FutureWarning: You are using `torch.load` with `weights_only=False` (the current default value), which uses the default pickle module implicitly. It is possible to construct malicious pickle data which will execute arbitrary code during unpickling (See https://github.com/pytorch/pytorch/blob/main/SECURITY.md#untrusted-models for more details). In a future release, the default value for `weights_only` will be flipped to `True`. This limits the functions that could be executed during unpickling. Arbitrary objects will no longer be allowed to be loaded via this mode unless they are explicitly allowlisted by the user via `torch.serialization.add_safe_globals`. We recommend you start setting `weights_only=True` for any use case where you don't have full control of the loaded file. Please open an issue on GitHub for any issues related to this experimental feature.\n",
      "  qphi = torch.load(fqphi, map_location=device)\n",
      "/groups/chhahn/haloflow/src/haloflow/corr.py:36: UserWarning: some M* samples are below or above the M* limit\n",
      "  warnings.warn('some M* samples are below or above the M* limit')\n",
      "/groups/chhahn/haloflow/src/haloflow/corr.py:38: UserWarning: some M* samples are below or above the Mh limit\n",
      "  warnings.warn('some M* samples are below or above the Mh limit')\n"
     ]
    },
    {
     "name": "stdout",
     "output_type": "stream",
     "text": [
      "437 models trained\n",
      "[178, 116, 360, 358, 192]\n"
     ]
    },
    {
     "name": "stderr",
     "output_type": "stream",
     "text": [
      "/groups/chhahn/haloflow/src/haloflow/util.py:42: FutureWarning: You are using `torch.load` with `weights_only=False` (the current default value), which uses the default pickle module implicitly. It is possible to construct malicious pickle data which will execute arbitrary code during unpickling (See https://github.com/pytorch/pytorch/blob/main/SECURITY.md#untrusted-models for more details). In a future release, the default value for `weights_only` will be flipped to `True`. This limits the functions that could be executed during unpickling. Arbitrary objects will no longer be allowed to be loaded via this mode unless they are explicitly allowlisted by the user via `torch.serialization.add_safe_globals`. We recommend you start setting `weights_only=True` for any use case where you don't have full control of the loaded file. Please open an issue on GitHub for any issues related to this experimental feature.\n",
      "  qphi = torch.load(fqphi, map_location=device)\n",
      "/groups/chhahn/haloflow/src/haloflow/corr.py:36: UserWarning: some M* samples are below or above the M* limit\n",
      "  warnings.warn('some M* samples are below or above the M* limit')\n",
      "/groups/chhahn/haloflow/src/haloflow/corr.py:38: UserWarning: some M* samples are below or above the Mh limit\n",
      "  warnings.warn('some M* samples are below or above the Mh limit')\n"
     ]
    },
    {
     "name": "stdout",
     "output_type": "stream",
     "text": [
      "437 models trained\n",
      "[178, 116, 360, 358, 192]\n"
     ]
    },
    {
     "name": "stderr",
     "output_type": "stream",
     "text": [
      "/groups/chhahn/haloflow/src/haloflow/util.py:42: FutureWarning: You are using `torch.load` with `weights_only=False` (the current default value), which uses the default pickle module implicitly. It is possible to construct malicious pickle data which will execute arbitrary code during unpickling (See https://github.com/pytorch/pytorch/blob/main/SECURITY.md#untrusted-models for more details). In a future release, the default value for `weights_only` will be flipped to `True`. This limits the functions that could be executed during unpickling. Arbitrary objects will no longer be allowed to be loaded via this mode unless they are explicitly allowlisted by the user via `torch.serialization.add_safe_globals`. We recommend you start setting `weights_only=True` for any use case where you don't have full control of the loaded file. Please open an issue on GitHub for any issues related to this experimental feature.\n",
      "  qphi = torch.load(fqphi, map_location=device)\n",
      "/groups/chhahn/haloflow/src/haloflow/corr.py:36: UserWarning: some M* samples are below or above the M* limit\n",
      "  warnings.warn('some M* samples are below or above the M* limit')\n",
      "/groups/chhahn/haloflow/src/haloflow/corr.py:38: UserWarning: some M* samples are below or above the Mh limit\n",
      "  warnings.warn('some M* samples are below or above the Mh limit')\n"
     ]
    },
    {
     "name": "stdout",
     "output_type": "stream",
     "text": [
      "235 models trained\n",
      "[136, 31, 96, 103, 211]\n"
     ]
    },
    {
     "name": "stderr",
     "output_type": "stream",
     "text": [
      "/groups/chhahn/haloflow/src/haloflow/util.py:42: FutureWarning: You are using `torch.load` with `weights_only=False` (the current default value), which uses the default pickle module implicitly. It is possible to construct malicious pickle data which will execute arbitrary code during unpickling (See https://github.com/pytorch/pytorch/blob/main/SECURITY.md#untrusted-models for more details). In a future release, the default value for `weights_only` will be flipped to `True`. This limits the functions that could be executed during unpickling. Arbitrary objects will no longer be allowed to be loaded via this mode unless they are explicitly allowlisted by the user via `torch.serialization.add_safe_globals`. We recommend you start setting `weights_only=True` for any use case where you don't have full control of the loaded file. Please open an issue on GitHub for any issues related to this experimental feature.\n",
      "  qphi = torch.load(fqphi, map_location=device)\n",
      "/groups/chhahn/haloflow/src/haloflow/corr.py:36: UserWarning: some M* samples are below or above the M* limit\n",
      "  warnings.warn('some M* samples are below or above the M* limit')\n"
     ]
    },
    {
     "name": "stdout",
     "output_type": "stream",
     "text": [
      "235 models trained\n",
      "[136, 31, 96, 103, 211]\n"
     ]
    },
    {
     "name": "stderr",
     "output_type": "stream",
     "text": [
      "/groups/chhahn/haloflow/src/haloflow/util.py:42: FutureWarning: You are using `torch.load` with `weights_only=False` (the current default value), which uses the default pickle module implicitly. It is possible to construct malicious pickle data which will execute arbitrary code during unpickling (See https://github.com/pytorch/pytorch/blob/main/SECURITY.md#untrusted-models for more details). In a future release, the default value for `weights_only` will be flipped to `True`. This limits the functions that could be executed during unpickling. Arbitrary objects will no longer be allowed to be loaded via this mode unless they are explicitly allowlisted by the user via `torch.serialization.add_safe_globals`. We recommend you start setting `weights_only=True` for any use case where you don't have full control of the loaded file. Please open an issue on GitHub for any issues related to this experimental feature.\n",
      "  qphi = torch.load(fqphi, map_location=device)\n"
     ]
    },
    {
     "name": "stdout",
     "output_type": "stream",
     "text": [
      "235 models trained\n",
      "[136, 31, 96, 103, 211]\n"
     ]
    },
    {
     "name": "stderr",
     "output_type": "stream",
     "text": [
      "/groups/chhahn/haloflow/src/haloflow/util.py:42: FutureWarning: You are using `torch.load` with `weights_only=False` (the current default value), which uses the default pickle module implicitly. It is possible to construct malicious pickle data which will execute arbitrary code during unpickling (See https://github.com/pytorch/pytorch/blob/main/SECURITY.md#untrusted-models for more details). In a future release, the default value for `weights_only` will be flipped to `True`. This limits the functions that could be executed during unpickling. Arbitrary objects will no longer be allowed to be loaded via this mode unless they are explicitly allowlisted by the user via `torch.serialization.add_safe_globals`. We recommend you start setting `weights_only=True` for any use case where you don't have full control of the loaded file. Please open an issue on GitHub for any issues related to this experimental feature.\n",
      "  qphi = torch.load(fqphi, map_location=device)\n",
      "/groups/chhahn/haloflow/src/haloflow/corr.py:36: UserWarning: some M* samples are below or above the M* limit\n",
      "  warnings.warn('some M* samples are below or above the M* limit')\n"
     ]
    },
    {
     "name": "stdout",
     "output_type": "stream",
     "text": [
      "235 models trained\n",
      "[136, 31, 96, 103, 211]\n"
     ]
    },
    {
     "name": "stderr",
     "output_type": "stream",
     "text": [
      "/groups/chhahn/haloflow/src/haloflow/util.py:42: FutureWarning: You are using `torch.load` with `weights_only=False` (the current default value), which uses the default pickle module implicitly. It is possible to construct malicious pickle data which will execute arbitrary code during unpickling (See https://github.com/pytorch/pytorch/blob/main/SECURITY.md#untrusted-models for more details). In a future release, the default value for `weights_only` will be flipped to `True`. This limits the functions that could be executed during unpickling. Arbitrary objects will no longer be allowed to be loaded via this mode unless they are explicitly allowlisted by the user via `torch.serialization.add_safe_globals`. We recommend you start setting `weights_only=True` for any use case where you don't have full control of the loaded file. Please open an issue on GitHub for any issues related to this experimental feature.\n",
      "  qphi = torch.load(fqphi, map_location=device)\n",
      "/groups/chhahn/haloflow/src/haloflow/corr.py:36: UserWarning: some M* samples are below or above the M* limit\n",
      "  warnings.warn('some M* samples are below or above the M* limit')\n"
     ]
    },
    {
     "name": "stdout",
     "output_type": "stream",
     "text": [
      "235 models trained\n",
      "[136, 31, 96, 103, 211]\n"
     ]
    },
    {
     "name": "stderr",
     "output_type": "stream",
     "text": [
      "/groups/chhahn/haloflow/src/haloflow/util.py:42: FutureWarning: You are using `torch.load` with `weights_only=False` (the current default value), which uses the default pickle module implicitly. It is possible to construct malicious pickle data which will execute arbitrary code during unpickling (See https://github.com/pytorch/pytorch/blob/main/SECURITY.md#untrusted-models for more details). In a future release, the default value for `weights_only` will be flipped to `True`. This limits the functions that could be executed during unpickling. Arbitrary objects will no longer be allowed to be loaded via this mode unless they are explicitly allowlisted by the user via `torch.serialization.add_safe_globals`. We recommend you start setting `weights_only=True` for any use case where you don't have full control of the loaded file. Please open an issue on GitHub for any issues related to this experimental feature.\n",
      "  qphi = torch.load(fqphi, map_location=device)\n",
      "/groups/chhahn/haloflow/src/haloflow/corr.py:36: UserWarning: some M* samples are below or above the M* limit\n",
      "  warnings.warn('some M* samples are below or above the M* limit')\n",
      "/groups/chhahn/haloflow/src/haloflow/corr.py:38: UserWarning: some M* samples are below or above the Mh limit\n",
      "  warnings.warn('some M* samples are below or above the Mh limit')\n"
     ]
    },
    {
     "name": "stdout",
     "output_type": "stream",
     "text": [
      "638 models trained\n",
      "[166, 550, 239, 474, 381]\n"
     ]
    },
    {
     "name": "stderr",
     "output_type": "stream",
     "text": [
      "/groups/chhahn/haloflow/src/haloflow/util.py:42: FutureWarning: You are using `torch.load` with `weights_only=False` (the current default value), which uses the default pickle module implicitly. It is possible to construct malicious pickle data which will execute arbitrary code during unpickling (See https://github.com/pytorch/pytorch/blob/main/SECURITY.md#untrusted-models for more details). In a future release, the default value for `weights_only` will be flipped to `True`. This limits the functions that could be executed during unpickling. Arbitrary objects will no longer be allowed to be loaded via this mode unless they are explicitly allowlisted by the user via `torch.serialization.add_safe_globals`. We recommend you start setting `weights_only=True` for any use case where you don't have full control of the loaded file. Please open an issue on GitHub for any issues related to this experimental feature.\n",
      "  qphi = torch.load(fqphi, map_location=device)\n",
      "/groups/chhahn/haloflow/src/haloflow/corr.py:36: UserWarning: some M* samples are below or above the M* limit\n",
      "  warnings.warn('some M* samples are below or above the M* limit')\n",
      "/groups/chhahn/haloflow/src/haloflow/corr.py:38: UserWarning: some M* samples are below or above the Mh limit\n",
      "  warnings.warn('some M* samples are below or above the Mh limit')\n"
     ]
    },
    {
     "name": "stdout",
     "output_type": "stream",
     "text": [
      "638 models trained\n",
      "[166, 550, 239, 474, 381]\n"
     ]
    },
    {
     "name": "stderr",
     "output_type": "stream",
     "text": [
      "/groups/chhahn/haloflow/src/haloflow/util.py:42: FutureWarning: You are using `torch.load` with `weights_only=False` (the current default value), which uses the default pickle module implicitly. It is possible to construct malicious pickle data which will execute arbitrary code during unpickling (See https://github.com/pytorch/pytorch/blob/main/SECURITY.md#untrusted-models for more details). In a future release, the default value for `weights_only` will be flipped to `True`. This limits the functions that could be executed during unpickling. Arbitrary objects will no longer be allowed to be loaded via this mode unless they are explicitly allowlisted by the user via `torch.serialization.add_safe_globals`. We recommend you start setting `weights_only=True` for any use case where you don't have full control of the loaded file. Please open an issue on GitHub for any issues related to this experimental feature.\n",
      "  qphi = torch.load(fqphi, map_location=device)\n",
      "/groups/chhahn/haloflow/src/haloflow/corr.py:36: UserWarning: some M* samples are below or above the M* limit\n",
      "  warnings.warn('some M* samples are below or above the M* limit')\n",
      "/groups/chhahn/haloflow/src/haloflow/corr.py:38: UserWarning: some M* samples are below or above the Mh limit\n",
      "  warnings.warn('some M* samples are below or above the Mh limit')\n"
     ]
    },
    {
     "name": "stdout",
     "output_type": "stream",
     "text": [
      "638 models trained\n",
      "[166, 550, 239, 474, 381]\n"
     ]
    },
    {
     "name": "stderr",
     "output_type": "stream",
     "text": [
      "/groups/chhahn/haloflow/src/haloflow/util.py:42: FutureWarning: You are using `torch.load` with `weights_only=False` (the current default value), which uses the default pickle module implicitly. It is possible to construct malicious pickle data which will execute arbitrary code during unpickling (See https://github.com/pytorch/pytorch/blob/main/SECURITY.md#untrusted-models for more details). In a future release, the default value for `weights_only` will be flipped to `True`. This limits the functions that could be executed during unpickling. Arbitrary objects will no longer be allowed to be loaded via this mode unless they are explicitly allowlisted by the user via `torch.serialization.add_safe_globals`. We recommend you start setting `weights_only=True` for any use case where you don't have full control of the loaded file. Please open an issue on GitHub for any issues related to this experimental feature.\n",
      "  qphi = torch.load(fqphi, map_location=device)\n",
      "/groups/chhahn/haloflow/src/haloflow/corr.py:36: UserWarning: some M* samples are below or above the M* limit\n",
      "  warnings.warn('some M* samples are below or above the M* limit')\n",
      "/groups/chhahn/haloflow/src/haloflow/corr.py:38: UserWarning: some M* samples are below or above the Mh limit\n",
      "  warnings.warn('some M* samples are below or above the Mh limit')\n"
     ]
    },
    {
     "name": "stdout",
     "output_type": "stream",
     "text": [
      "638 models trained\n",
      "[166, 550, 239, 474, 381]\n"
     ]
    },
    {
     "name": "stderr",
     "output_type": "stream",
     "text": [
      "/groups/chhahn/haloflow/src/haloflow/util.py:42: FutureWarning: You are using `torch.load` with `weights_only=False` (the current default value), which uses the default pickle module implicitly. It is possible to construct malicious pickle data which will execute arbitrary code during unpickling (See https://github.com/pytorch/pytorch/blob/main/SECURITY.md#untrusted-models for more details). In a future release, the default value for `weights_only` will be flipped to `True`. This limits the functions that could be executed during unpickling. Arbitrary objects will no longer be allowed to be loaded via this mode unless they are explicitly allowlisted by the user via `torch.serialization.add_safe_globals`. We recommend you start setting `weights_only=True` for any use case where you don't have full control of the loaded file. Please open an issue on GitHub for any issues related to this experimental feature.\n",
      "  qphi = torch.load(fqphi, map_location=device)\n",
      "/groups/chhahn/haloflow/src/haloflow/corr.py:36: UserWarning: some M* samples are below or above the M* limit\n",
      "  warnings.warn('some M* samples are below or above the M* limit')\n"
     ]
    },
    {
     "name": "stdout",
     "output_type": "stream",
     "text": [
      "638 models trained\n",
      "[166, 550, 239, 474, 381]\n"
     ]
    },
    {
     "name": "stderr",
     "output_type": "stream",
     "text": [
      "/groups/chhahn/haloflow/src/haloflow/util.py:42: FutureWarning: You are using `torch.load` with `weights_only=False` (the current default value), which uses the default pickle module implicitly. It is possible to construct malicious pickle data which will execute arbitrary code during unpickling (See https://github.com/pytorch/pytorch/blob/main/SECURITY.md#untrusted-models for more details). In a future release, the default value for `weights_only` will be flipped to `True`. This limits the functions that could be executed during unpickling. Arbitrary objects will no longer be allowed to be loaded via this mode unless they are explicitly allowlisted by the user via `torch.serialization.add_safe_globals`. We recommend you start setting `weights_only=True` for any use case where you don't have full control of the loaded file. Please open an issue on GitHub for any issues related to this experimental feature.\n",
      "  qphi = torch.load(fqphi, map_location=device)\n",
      "/groups/chhahn/haloflow/src/haloflow/corr.py:36: UserWarning: some M* samples are below or above the M* limit\n",
      "  warnings.warn('some M* samples are below or above the M* limit')\n"
     ]
    }
   ],
   "source": [
    "fig, ax = plt.subplots(len(sims), len(sims), figsize=(20, 20))\n",
    "\n",
    "for i, train_sim in enumerate(sims):\n",
    "    for j, test_sim in enumerate(sims):\n",
    "#         ax[j, i], _, _ = P.plot_true_pred(ax[j, i], obs, train_sim, obs, test_sim, 'cpu', fmt='.b')\n",
    "        ax[j, i], _, _ = P.plot_true_pred(ax[j, i], obs, train_sim, obs, test_sim, 'cpu', fmt='.r', use_weights=True)\n",
    "        ax[j, i].legend()\n",
    "        # remove x-axis labels  \n",
    "        if j != len(sims)-1:\n",
    "            ax[j, i].set_xticklabels([])\n",
    "            ax[j, i].set_xlabel('')\n",
    "        # remove y-axis labels\n",
    "        if i != 0:\n",
    "            ax[j, i].set_yticklabels([])\n",
    "            ax[j, i].set_ylabel('')\n",
    "\n",
    "plt.tight_layout()\n",
    "plt.savefig('halo_scatter_plot.png', dpi=150)\n",
    "plt.show()"
   ]
  },
  {
   "cell_type": "code",
   "execution_count": null,
   "id": "427b600e",
   "metadata": {
    "scrolled": true
   },
   "outputs": [],
   "source": [
    "fig, ax = plt.subplots(len(sims), len(sims), figsize=(20, 20))\n",
    "\n",
    "for i, train_sim in enumerate(sims):\n",
    "    for j, test_sim in enumerate(sims):\n",
    "#         ax[j, i], _, _ = P.plot_true_pred(ax[j, i], obs, train_sim, obs, test_sim, 'cpu', fmt='.b', mass='stellar')\n",
    "        ax[j, i], _, _ = P.plot_true_pred(ax[j, i], obs, train_sim, obs, test_sim, 'cpu', fmt='.r', use_weights=True, mass='stellar')\n",
    "        ax[j, i].legend()\n",
    "        # remove x-axis labels  \n",
    "        if j != len(sims)-1:\n",
    "            ax[j, i].set_xticklabels([])\n",
    "            ax[j, i].set_xlabel('')\n",
    "        # remove y-axis labels\n",
    "        if i != 0:\n",
    "            ax[j, i].set_yticklabels([])\n",
    "            ax[j, i].set_ylabel('')\n",
    "#         break\n",
    "#     break\n",
    "\n",
    "plt.show()\n",
    "plt.tight_layout()\n",
    "plt.savefig('stellar_scatter_plot.png', dpi=150)"
   ]
  },
  {
   "cell_type": "code",
   "execution_count": null,
   "id": "51c6a9e6",
   "metadata": {},
   "outputs": [],
   "source": []
  }
 ],
 "metadata": {
  "kernelspec": {
   "display_name": "Python (haloflow_venv)",
   "language": "python",
   "name": "myenv"
  },
  "language_info": {
   "codemirror_mode": {
    "name": "ipython",
    "version": 3
   },
   "file_extension": ".py",
   "mimetype": "text/x-python",
   "name": "python",
   "nbconvert_exporter": "python",
   "pygments_lexer": "ipython3",
   "version": "3.9.12"
  }
 },
 "nbformat": 4,
 "nbformat_minor": 5
}
