{
 "cells": [
  {
   "cell_type": "code",
   "execution_count": null,
   "id": "dd8380c6",
   "metadata": {},
   "outputs": [],
   "source": [
    "import os\n",
    "import numpy as np\n",
    "from tqdm.notebook import tqdm, trange\n",
    "\n",
    "import torch\n",
    "from haloflow import data as D\n",
    "from haloflow import util as U"
   ]
  },
  {
   "cell_type": "code",
   "execution_count": null,
   "id": "74f2b920",
   "metadata": {},
   "outputs": [],
   "source": [
    "import corner as DFM\n",
    "# --- plotting ---\n",
    "import matplotlib as mpl\n",
    "import matplotlib.pyplot as plt\n",
    "mpl.rcParams['text.usetex'] = True\n",
    "mpl.rcParams['font.family'] = 'serif'\n",
    "mpl.rcParams['axes.linewidth'] = 1.5\n",
    "mpl.rcParams['axes.xmargin'] = 1\n",
    "mpl.rcParams['xtick.labelsize'] = 'x-large'\n",
    "mpl.rcParams['xtick.major.size'] = 5\n",
    "mpl.rcParams['xtick.major.width'] = 1.5\n",
    "mpl.rcParams['ytick.labelsize'] = 'x-large'\n",
    "mpl.rcParams['ytick.major.size'] = 5\n",
    "mpl.rcParams['ytick.major.width'] = 1.5\n",
    "mpl.rcParams['legend.frameon'] = False"
   ]
  },
  {
   "cell_type": "code",
   "execution_count": null,
   "id": "12224dfb",
   "metadata": {},
   "outputs": [],
   "source": [
    "if torch.cuda.is_available(): device = 'cuda'\n",
    "else: device = 'cpu'"
   ]
  },
  {
   "cell_type": "markdown",
   "id": "518b2872",
   "metadata": {},
   "source": [
    "## read $q_\\phi(Y\\,|\\,X)$"
   ]
  },
  {
   "cell_type": "code",
   "execution_count": null,
   "id": "967910d0",
   "metadata": {},
   "outputs": [],
   "source": [
    "qphis = U.read_best_ndes('h2.v1.TNG50.mags_morph', n_ensemble=5, device=device, \n",
    "                         dat_dir='/scratch/gpfs/chhahn/haloflow/hf2/npe', verbose=True)\n",
    "Y_test, X_test = D.hf2_centrals('test', 'mags_morph', sim='TNG50')"
   ]
  },
  {
   "cell_type": "markdown",
   "id": "0491ea1b",
   "metadata": {},
   "source": [
    "## some examples"
   ]
  },
  {
   "cell_type": "code",
   "execution_count": null,
   "id": "e39a3793",
   "metadata": {},
   "outputs": [],
   "source": [
    "n_sample = 10000\n",
    "for i in np.random.choice(np.arange(X_test.shape[0]), size=5, replace=False): \n",
    "    y_samp = []\n",
    "    for qphi in qphis: \n",
    "        _samp = qphi.sample((int(n_sample/len(qphis)),),\n",
    "                               x=torch.tensor(X_test[i], dtype=torch.float32).to(device), \n",
    "                               show_progress_bars=True)\n",
    "        y_samp.append(_samp.detach().cpu().numpy())\n",
    "    y_nde = np.concatenate(np.array(y_samp), axis=0)\n",
    "    \n",
    "    \n",
    "    fig = DFM.corner(y_nde, color='C0', plot_datapoints=False, plot_density=False)\n",
    "    DFM.overplot_points(fig, [Y_test[i]], color='r')\n",
    "    DFM.overplot_lines(fig, Y_test[i], color='r')"
   ]
  },
  {
   "cell_type": "markdown",
   "id": "890f2ab7",
   "metadata": {},
   "source": [
    "## coverage test"
   ]
  },
  {
   "cell_type": "code",
   "execution_count": null,
   "id": "9747c455",
   "metadata": {},
   "outputs": [],
   "source": [
    "n_sample = 1000\n",
    "\n",
    "ranks = []\n",
    "y_nde = [] \n",
    "for i in trange(X_test.shape[0]): \n",
    "    y_samp = []\n",
    "    for qphi in qphis: \n",
    "        _samp = qphi.sample((int(n_sample/len(qphis)),),\n",
    "                               x=torch.tensor(X_test[i], dtype=torch.float32).to(device), \n",
    "                               show_progress_bars=False)\n",
    "        y_samp.append(_samp.detach().cpu().numpy())\n",
    "    y_nde.append(np.concatenate(np.array(y_samp), axis=0)) \n",
    "    \n",
    "    _ranks = []\n",
    "    for i_dim in range(y_nde[-1].shape[1]): \n",
    "        _ranks.append(np.mean(y_nde[-1][:,i_dim].flatten() < Y_test[i, i_dim]))\n",
    "    ranks.append(_ranks)\n",
    "    \n",
    "ranks = np.array(ranks)\n",
    "y_nde = np.array(y_nde)"
   ]
  },
  {
   "cell_type": "code",
   "execution_count": null,
   "id": "4dc72db7",
   "metadata": {},
   "outputs": [],
   "source": [
    "fig = plt.figure(figsize=(12,3.5))\n",
    "sub = fig.add_subplot(121)\n",
    "\n",
    "_ = sub.hist(ranks[:,0], range=(0., 1), bins=20, histtype='step', density=True, linewidth=2)\n",
    "\n",
    "sub.plot([0., 1.], [1., 1.], c='k', ls='--')\n",
    "sub.text(0.05, 0.95, r'$\\log M_*$', fontsize=20, transform=sub.transAxes, ha='left', va='top')\n",
    "sub.set_xlabel('rank statistics', fontsize=20)\n",
    "sub.set_xlim(0., 1.)\n",
    "sub.set_ylim(0., 3.)\n",
    "sub.set_yticks([])\n",
    "\n",
    "sub = fig.add_subplot(122)\n",
    "\n",
    "_ = sub.hist(ranks[:,1], range=(0., 1), bins=20, histtype='step', density=True, linewidth=2)\n",
    "\n",
    "sub.plot([0., 1.], [1., 1.], c='k', ls='--')\n",
    "sub.text(0.05, 0.95, r'$\\log M_h$', fontsize=20, transform=sub.transAxes, ha='left', va='top')\n",
    "sub.set_xlabel('rank statistics', fontsize=20)\n",
    "sub.set_xlim(0., 1.)\n",
    "sub.set_ylim(0., 3.)\n",
    "sub.set_yticks([])"
   ]
  },
  {
   "cell_type": "code",
   "execution_count": null,
   "id": "a1d46463",
   "metadata": {},
   "outputs": [],
   "source": [
    "from tarp import get_drp_coverage"
   ]
  },
  {
   "cell_type": "code",
   "execution_count": null,
   "id": "2424e900",
   "metadata": {},
   "outputs": [],
   "source": [
    "alpha, ecp = get_drp_coverage(np.swapaxes(y_nde, 0, 1), Y_test, references=\"random\", metric=\"euclidean\")\n"
   ]
  },
  {
   "cell_type": "code",
   "execution_count": null,
   "id": "1e363e92",
   "metadata": {},
   "outputs": [],
   "source": [
    "fig, ax = plt.subplots(1, 1, figsize=(6,6))\n",
    "ax.plot([0, 1], [0, 1], ls=\"--\", color=\"k\")\n",
    "ax.plot(alpha, ecp, c='C0')\n",
    "ax.legend(loc='lower right', fontsize=15)\n",
    "ax.set_ylabel(\"Expected Coverage\", fontsize=20)\n",
    "ax.set_ylim(0., 1.)\n",
    "ax.set_xlabel(\"Credibility Level\", fontsize=20)\n",
    "ax.set_xlim(0., 1.)"
   ]
  },
  {
   "cell_type": "code",
   "execution_count": null,
   "id": "cfc500ef",
   "metadata": {},
   "outputs": [],
   "source": []
  }
 ],
 "metadata": {
  "kernelspec": {
   "display_name": "Python (haloflow_venv)",
   "language": "python",
   "name": "myenv"
  },
  "language_info": {
   "codemirror_mode": {
    "name": "ipython",
    "version": 3
   },
   "file_extension": ".py",
   "mimetype": "text/x-python",
   "name": "python",
   "nbconvert_exporter": "python",
   "pygments_lexer": "ipython3",
   "version": "3.9.12"
  }
 },
 "nbformat": 4,
 "nbformat_minor": 5
}
